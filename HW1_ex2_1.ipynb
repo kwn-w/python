{
  "nbformat": 4,
  "nbformat_minor": 0,
  "metadata": {
    "colab": {
      "name": "Untitled2.ipynb",
      "provenance": [],
      "include_colab_link": true
    },
    "kernelspec": {
      "name": "python3",
      "display_name": "Python 3"
    }
  },
  "cells": [
    {
      "cell_type": "markdown",
      "metadata": {
        "id": "view-in-github",
        "colab_type": "text"
      },
      "source": [
        "<a href=\"https://colab.research.google.com/github/kwn-w/python/blob/main/HW1_ex2_1.ipynb\" target=\"_parent\"><img src=\"https://colab.research.google.com/assets/colab-badge.svg\" alt=\"Open In Colab\"/></a>"
      ]
    },
    {
      "cell_type": "code",
      "metadata": {
        "colab": {
          "base_uri": "https://localhost:8080/",
          "height": 36
        },
        "id": "-FmpLjen6-8T",
        "outputId": "99414c30-a256-4f94-e249-776e771a2e42"
      },
      "source": [
        "import tensorflow\r\n",
        "tensorflow.keras.__version__\r\n",
        "\r\n",
        "# tensorflow keras 버전 확인하기"
      ],
      "execution_count": null,
      "outputs": [
        {
          "output_type": "execute_result",
          "data": {
            "application/vnd.google.colaboratory.intrinsic+json": {
              "type": "string"
            },
            "text/plain": [
              "'2.4.0'"
            ]
          },
          "metadata": {
            "tags": []
          },
          "execution_count": 1
        }
      ]
    },
    {
      "cell_type": "code",
      "metadata": {
        "colab": {
          "base_uri": "https://localhost:8080/"
        },
        "id": "6ZvWwQf_7-dH",
        "outputId": "1415a224-5663-490e-d923-800867b48721"
      },
      "source": [
        "from tensorflow.keras.datasets import mnist\r\n",
        "\r\n",
        "(train_images, train_labels), (test_images, test_labels) = mnist.load_data()\r\n",
        "# mnist 모듈을 불러오고 load_data를 이용해 가져오기"
      ],
      "execution_count": null,
      "outputs": [
        {
          "output_type": "stream",
          "text": [
            "Downloading data from https://storage.googleapis.com/tensorflow/tf-keras-datasets/mnist.npz\n",
            "11493376/11490434 [==============================] - 0s 0us/step\n"
          ],
          "name": "stdout"
        }
      ]
    },
    {
      "cell_type": "code",
      "metadata": {
        "colab": {
          "base_uri": "https://localhost:8080/"
        },
        "id": "_F4_C33072M_",
        "outputId": "a851d404-07ec-4bd7-e850-7cb751ae9d1b"
      },
      "source": [
        "mnist?\r\n",
        "# mnist에 대한 정보 확인"
      ],
      "execution_count": null,
      "outputs": [
        {
          "output_type": "stream",
          "text": [
            "Object `mnist` not found.\n"
          ],
          "name": "stdout"
        }
      ]
    },
    {
      "cell_type": "code",
      "metadata": {
        "colab": {
          "base_uri": "https://localhost:8080/"
        },
        "id": "m8PSSmd1_mXh",
        "outputId": "7245f0d6-305b-44c6-cad5-5079cc927c76"
      },
      "source": [
        "train_images.shape\r\n",
        "# train_images data의 형태 확인"
      ],
      "execution_count": null,
      "outputs": [
        {
          "output_type": "execute_result",
          "data": {
            "text/plain": [
              "(60000, 28, 28)"
            ]
          },
          "metadata": {
            "tags": []
          },
          "execution_count": 6
        }
      ]
    },
    {
      "cell_type": "code",
      "metadata": {
        "colab": {
          "base_uri": "https://localhost:8080/"
        },
        "id": "1x4oa2Pl_uye",
        "outputId": "5a4cac10-735f-4548-b2ef-ac990ffea64b"
      },
      "source": [
        "len(train_labels)\r\n",
        "# 길이 확인"
      ],
      "execution_count": null,
      "outputs": [
        {
          "output_type": "execute_result",
          "data": {
            "text/plain": [
              "60000"
            ]
          },
          "metadata": {
            "tags": []
          },
          "execution_count": 7
        }
      ]
    },
    {
      "cell_type": "code",
      "metadata": {
        "colab": {
          "base_uri": "https://localhost:8080/"
        },
        "id": "LYWZCJGx_8h4",
        "outputId": "3a62807c-5ba5-41e3-8b2b-0628f7844f70"
      },
      "source": [
        "train_labels\r\n",
        "#train_labels를 출력해서 배열 확인"
      ],
      "execution_count": null,
      "outputs": [
        {
          "output_type": "execute_result",
          "data": {
            "text/plain": [
              "array([5, 0, 4, ..., 5, 6, 8], dtype=uint8)"
            ]
          },
          "metadata": {
            "tags": []
          },
          "execution_count": 8
        }
      ]
    },
    {
      "cell_type": "code",
      "metadata": {
        "colab": {
          "base_uri": "https://localhost:8080/"
        },
        "id": "PXXHTH4qABNy",
        "outputId": "bb5af615-4286-4c05-fd0d-bbdb5e7fbee4"
      },
      "source": [
        "test_images.shape\r\n",
        "# test_images data의 형태 확인"
      ],
      "execution_count": null,
      "outputs": [
        {
          "output_type": "execute_result",
          "data": {
            "text/plain": [
              "(10000, 28, 28)"
            ]
          },
          "metadata": {
            "tags": []
          },
          "execution_count": 10
        }
      ]
    },
    {
      "cell_type": "code",
      "metadata": {
        "id": "_mSpFIpNABVO"
      },
      "source": [
        "len(test_labels)\r\n",
        "#test_labels 길이 확인"
      ],
      "execution_count": null,
      "outputs": []
    },
    {
      "cell_type": "code",
      "metadata": {
        "id": "mxJrG4UIABYH"
      },
      "source": [
        "test_labels\r\n",
        "#test_labels를 출력해서 배열 확인"
      ],
      "execution_count": null,
      "outputs": []
    },
    {
      "cell_type": "code",
      "metadata": {
        "id": "QlZrI17BABbG"
      },
      "source": [
        "from tensorflow.keras import models\r\n",
        "from tensorflow.keras import layers\r\n",
        "#models, layers 사용할 수 있도록 import\r\n",
        "\r\n",
        "network = models.Sequential()\r\n",
        "network.add(layers.Dense(512, activation='relu', input_shape=(28 * 28,)))\r\n",
        "network.add(layers.Dense(10, activation='softmax'))\r\n",
        "#모델 적용하기 : Dense layer 2회 사용하였으며 최적화 함수를 처음에는 relu, 두번째는 softmax 사용"
      ],
      "execution_count": null,
      "outputs": []
    },
    {
      "cell_type": "code",
      "metadata": {
        "id": "EPysqU3vABeU"
      },
      "source": [
        "network.compile(optimizer='rmsprop',\r\n",
        "                loss='categorical_crossentropy',\r\n",
        "                metrics=['accuracy'])\r\n",
        "# 최적화함수는 rmsprop, 손실함수는 'categorical_crossentropy, "
      ],
      "execution_count": null,
      "outputs": []
    },
    {
      "cell_type": "code",
      "metadata": {
        "id": "l4AFcPOVAIAO"
      },
      "source": [
        "train_images = train_images.reshape((60000, 28 * 28))\r\n",
        "train_images = train_images.astype('float32') / 255\r\n",
        "#train_images 형태를 (60000, 28*28)로 바꾸고 값들이 0~1 사이에 올 수 있도록 255로 나눔.\r\n",
        "\r\n",
        "test_images = test_images.reshape((10000, 28 * 28))\r\n",
        "test_images = test_images.astype('float32') / 255\r\n",
        "#test_images 형태를 (60000, 28*28)로 바꾸고 값들이 0~1 사이에 올 수 있도록 255로 나눔."
      ],
      "execution_count": null,
      "outputs": []
    },
    {
      "cell_type": "code",
      "metadata": {
        "id": "J2vJrcspAIdM"
      },
      "source": [
        "from tensorflow.keras.utils import to_categorical\r\n",
        "#to_categorical 모듈 다운로드\r\n",
        "\r\n",
        "train_labels = to_categorical(train_labels)\r\n",
        "test_labels = to_categorical(test_labels)\r\n",
        "# 기존 내용을 범주형으로 적용"
      ],
      "execution_count": null,
      "outputs": []
    },
    {
      "cell_type": "code",
      "metadata": {
        "id": "o62rgf8FALuF"
      },
      "source": [
        "network.fit(train_images, train_labels, epochs=5, batch_size=128)\r\n",
        "# 모델 훈련시키기"
      ],
      "execution_count": null,
      "outputs": []
    },
    {
      "cell_type": "code",
      "metadata": {
        "id": "6okRNCScANUu"
      },
      "source": [
        "test_loss, test_acc = network.evaluate(test_images, test_labels)\r\n",
        "#정확도를 확인하기"
      ],
      "execution_count": null,
      "outputs": []
    },
    {
      "cell_type": "code",
      "metadata": {
        "id": "VVPGBXeAAOqh"
      },
      "source": [
        "print('test_acc:', test_acc)\r\n",
        "#test_acc 출력하기"
      ],
      "execution_count": null,
      "outputs": []
    }
  ]
}