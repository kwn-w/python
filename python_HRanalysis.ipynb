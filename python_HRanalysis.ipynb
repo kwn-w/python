{
 "cells": [
  {
   "cell_type": "code",
   "execution_count": 1,
   "metadata": {
    "_cell_guid": "b1076dfc-b9ad-4769-8c92-a6c4dae69d19",
    "_uuid": "8f2839f25d086af736a60e9eeb907d3b93b6e0e5",
    "execution": {
     "iopub.execute_input": "2021-06-16T06:28:46.105628Z",
     "iopub.status.busy": "2021-06-16T06:28:46.104948Z",
     "iopub.status.idle": "2021-06-16T06:28:46.119883Z",
     "shell.execute_reply": "2021-06-16T06:28:46.119100Z",
     "shell.execute_reply.started": "2021-06-16T06:24:30.251301Z"
    },
    "papermill": {
     "duration": 0.068612,
     "end_time": "2021-06-16T06:28:46.120050",
     "exception": false,
     "start_time": "2021-06-16T06:28:46.051438",
     "status": "completed"
    },
    "tags": []
   },
   "outputs": [
    {
     "name": "stdout",
     "output_type": "stream",
     "text": [
      "/kaggle/input/hr-analytics-job-change-of-data-scientists/sample_submission.csv\n",
      "/kaggle/input/hr-analytics-job-change-of-data-scientists/aug_test.csv\n",
      "/kaggle/input/hr-analytics-job-change-of-data-scientists/aug_train.csv\n"
     ]
    }
   ],
   "source": [
    "# This Python 3 environment comes with many helpful analytics libraries installed\n",
    "# It is defined by the kaggle/python Docker image: https://github.com/kaggle/docker-python\n",
    "# For example, here's several helpful packages to load\n",
    "\n",
    "import numpy as np # linear algebra\n",
    "import pandas as pd # data processing, CSV file I/O (e.g. pd.read_csv)\n",
    "\n",
    "# Input data files are available in the read-only \"../input/\" directory\n",
    "# For example, running this (by clicking run or pressing Shift+Enter) will list all files under the input directory\n",
    "\n",
    "import os\n",
    "for dirname, _, filenames in os.walk('/kaggle/input'):\n",
    "    for filename in filenames:\n",
    "        print(os.path.join(dirname, filename))\n",
    "\n",
    "# You can write up to 20GB to the current directory (/kaggle/working/) that gets preserved as output when you create a version using \"Save & Run All\" \n",
    "# You can also write temporary files to /kaggle/temp/, but they won't be saved outside of the current session"
   ]
  },
  {
   "cell_type": "code",
   "execution_count": 2,
   "metadata": {
    "execution": {
     "iopub.execute_input": "2021-06-16T06:28:46.212942Z",
     "iopub.status.busy": "2021-06-16T06:28:46.212205Z",
     "iopub.status.idle": "2021-06-16T06:28:47.454289Z",
     "shell.execute_reply": "2021-06-16T06:28:47.453283Z",
     "shell.execute_reply.started": "2021-06-16T06:24:30.264757Z"
    },
    "papermill": {
     "duration": 1.291394,
     "end_time": "2021-06-16T06:28:47.454480",
     "exception": false,
     "start_time": "2021-06-16T06:28:46.163086",
     "status": "completed"
    },
    "tags": []
   },
   "outputs": [],
   "source": [
    "import matplotlib.pyplot as plt\n",
    "import seaborn as sns\n",
    "from matplotlib import cbook, rc_params_from_file, rcParamsDefault\n",
    "\n",
    "from sklearn.preprocessing import LabelEncoder\n",
    "from sklearn.model_selection import KFold\n",
    "from sklearn.metrics import roc_auc_score\n",
    "from sklearn import metrics\n",
    "\n",
    "#classifier\n",
    "from sklearn.linear_model import LinearRegression\n",
    "from sklearn.metrics import mean_squared_error,r2_score, mean_absolute_error\n",
    "from sklearn import svm\n",
    "\n",
    "from sklearn.model_selection import train_test_split \n",
    "from sklearn.metrics import mean_absolute_error\n",
    "from sklearn.metrics import accuracy_score,classification_report,confusion_matrix\n",
    "from sklearn.ensemble import RandomForestClassifier\n",
    "from sklearn.tree import DecisionTreeClassifier\n",
    "from sklearn.neighbors import KNeighborsClassifier\n",
    "from sklearn.metrics import *"
   ]
  },
  {
   "cell_type": "code",
   "execution_count": 3,
   "metadata": {
    "execution": {
     "iopub.execute_input": "2021-06-16T06:28:47.560242Z",
     "iopub.status.busy": "2021-06-16T06:28:47.559605Z",
     "iopub.status.idle": "2021-06-16T06:28:47.657358Z",
     "shell.execute_reply": "2021-06-16T06:28:47.656591Z",
     "shell.execute_reply.started": "2021-06-16T06:24:30.275539Z"
    },
    "papermill": {
     "duration": 0.158222,
     "end_time": "2021-06-16T06:28:47.657510",
     "exception": false,
     "start_time": "2021-06-16T06:28:47.499288",
     "status": "completed"
    },
    "tags": []
   },
   "outputs": [],
   "source": [
    "train = pd.read_csv(r\"/kaggle/input/hr-analytics-job-change-of-data-scientists/aug_train.csv\")\n",
    "test = pd.read_csv(r\"/kaggle/input/hr-analytics-job-change-of-data-scientists/aug_test.csv\")"
   ]
  },
  {
   "cell_type": "code",
   "execution_count": 4,
   "metadata": {
    "execution": {
     "iopub.execute_input": "2021-06-16T06:28:47.745385Z",
     "iopub.status.busy": "2021-06-16T06:28:47.744411Z",
     "iopub.status.idle": "2021-06-16T06:28:47.792891Z",
     "shell.execute_reply": "2021-06-16T06:28:47.792281Z",
     "shell.execute_reply.started": "2021-06-16T06:24:30.348409Z"
    },
    "papermill": {
     "duration": 0.092842,
     "end_time": "2021-06-16T06:28:47.793021",
     "exception": false,
     "start_time": "2021-06-16T06:28:47.700179",
     "status": "completed"
    },
    "tags": []
   },
   "outputs": [
    {
     "data": {
      "text/html": [
       "<div>\n",
       "<style scoped>\n",
       "    .dataframe tbody tr th:only-of-type {\n",
       "        vertical-align: middle;\n",
       "    }\n",
       "\n",
       "    .dataframe tbody tr th {\n",
       "        vertical-align: top;\n",
       "    }\n",
       "\n",
       "    .dataframe thead th {\n",
       "        text-align: right;\n",
       "    }\n",
       "</style>\n",
       "<table border=\"1\" class=\"dataframe\">\n",
       "  <thead>\n",
       "    <tr style=\"text-align: right;\">\n",
       "      <th></th>\n",
       "      <th>count</th>\n",
       "      <th>mean</th>\n",
       "      <th>std</th>\n",
       "      <th>min</th>\n",
       "      <th>25%</th>\n",
       "      <th>50%</th>\n",
       "      <th>75%</th>\n",
       "      <th>max</th>\n",
       "    </tr>\n",
       "  </thead>\n",
       "  <tbody>\n",
       "    <tr>\n",
       "      <th>enrollee_id</th>\n",
       "      <td>19158.0</td>\n",
       "      <td>16875.358179</td>\n",
       "      <td>9616.292592</td>\n",
       "      <td>1.000</td>\n",
       "      <td>8554.25</td>\n",
       "      <td>16982.500</td>\n",
       "      <td>25169.75</td>\n",
       "      <td>33380.000</td>\n",
       "    </tr>\n",
       "    <tr>\n",
       "      <th>city_development_index</th>\n",
       "      <td>19158.0</td>\n",
       "      <td>0.828848</td>\n",
       "      <td>0.123362</td>\n",
       "      <td>0.448</td>\n",
       "      <td>0.74</td>\n",
       "      <td>0.903</td>\n",
       "      <td>0.92</td>\n",
       "      <td>0.949</td>\n",
       "    </tr>\n",
       "    <tr>\n",
       "      <th>training_hours</th>\n",
       "      <td>19158.0</td>\n",
       "      <td>65.366896</td>\n",
       "      <td>60.058462</td>\n",
       "      <td>1.000</td>\n",
       "      <td>23.00</td>\n",
       "      <td>47.000</td>\n",
       "      <td>88.00</td>\n",
       "      <td>336.000</td>\n",
       "    </tr>\n",
       "    <tr>\n",
       "      <th>target</th>\n",
       "      <td>19158.0</td>\n",
       "      <td>0.249348</td>\n",
       "      <td>0.432647</td>\n",
       "      <td>0.000</td>\n",
       "      <td>0.00</td>\n",
       "      <td>0.000</td>\n",
       "      <td>0.00</td>\n",
       "      <td>1.000</td>\n",
       "    </tr>\n",
       "  </tbody>\n",
       "</table>\n",
       "</div>"
      ],
      "text/plain": [
       "                          count          mean          std    min      25%  \\\n",
       "enrollee_id             19158.0  16875.358179  9616.292592  1.000  8554.25   \n",
       "city_development_index  19158.0      0.828848     0.123362  0.448     0.74   \n",
       "training_hours          19158.0     65.366896    60.058462  1.000    23.00   \n",
       "target                  19158.0      0.249348     0.432647  0.000     0.00   \n",
       "\n",
       "                              50%       75%        max  \n",
       "enrollee_id             16982.500  25169.75  33380.000  \n",
       "city_development_index      0.903      0.92      0.949  \n",
       "training_hours             47.000     88.00    336.000  \n",
       "target                      0.000      0.00      1.000  "
      ]
     },
     "execution_count": 4,
     "metadata": {},
     "output_type": "execute_result"
    }
   ],
   "source": [
    "train.describe().transpose()"
   ]
  },
  {
   "cell_type": "code",
   "execution_count": 5,
   "metadata": {
    "execution": {
     "iopub.execute_input": "2021-06-16T06:28:47.884849Z",
     "iopub.status.busy": "2021-06-16T06:28:47.883929Z",
     "iopub.status.idle": "2021-06-16T06:28:47.887740Z",
     "shell.execute_reply": "2021-06-16T06:28:47.888182Z",
     "shell.execute_reply.started": "2021-06-16T06:24:30.38006Z"
    },
    "papermill": {
     "duration": 0.0528,
     "end_time": "2021-06-16T06:28:47.888366",
     "exception": false,
     "start_time": "2021-06-16T06:28:47.835566",
     "status": "completed"
    },
    "tags": []
   },
   "outputs": [
    {
     "data": {
      "text/plain": [
       "Index(['enrollee_id', 'city', 'city_development_index', 'gender',\n",
       "       'relevent_experience', 'enrolled_university', 'education_level',\n",
       "       'major_discipline', 'experience', 'company_size', 'company_type',\n",
       "       'last_new_job', 'training_hours', 'target'],\n",
       "      dtype='object')"
      ]
     },
     "execution_count": 5,
     "metadata": {},
     "output_type": "execute_result"
    }
   ],
   "source": [
    "train.keys()"
   ]
  },
  {
   "cell_type": "code",
   "execution_count": 6,
   "metadata": {
    "execution": {
     "iopub.execute_input": "2021-06-16T06:28:47.994818Z",
     "iopub.status.busy": "2021-06-16T06:28:47.994148Z",
     "iopub.status.idle": "2021-06-16T06:28:48.009938Z",
     "shell.execute_reply": "2021-06-16T06:28:48.009419Z",
     "shell.execute_reply.started": "2021-06-16T06:24:30.386242Z"
    },
    "papermill": {
     "duration": 0.079203,
     "end_time": "2021-06-16T06:28:48.010078",
     "exception": false,
     "start_time": "2021-06-16T06:28:47.930875",
     "status": "completed"
    },
    "tags": []
   },
   "outputs": [
    {
     "name": "stdout",
     "output_type": "stream",
     "text": [
      "<class 'pandas.core.frame.DataFrame'>\n",
      "RangeIndex: 19158 entries, 0 to 19157\n",
      "Data columns (total 14 columns):\n",
      " #   Column                  Non-Null Count  Dtype  \n",
      "---  ------                  --------------  -----  \n",
      " 0   enrollee_id             19158 non-null  int64  \n",
      " 1   city                    19158 non-null  object \n",
      " 2   city_development_index  19158 non-null  float64\n",
      " 3   gender                  14650 non-null  object \n",
      " 4   relevent_experience     19158 non-null  object \n",
      " 5   enrolled_university     18772 non-null  object \n",
      " 6   education_level         18698 non-null  object \n",
      " 7   major_discipline        16345 non-null  object \n",
      " 8   experience              19093 non-null  object \n",
      " 9   company_size            13220 non-null  object \n",
      " 10  company_type            13018 non-null  object \n",
      " 11  last_new_job            18735 non-null  object \n",
      " 12  training_hours          19158 non-null  int64  \n",
      " 13  target                  19158 non-null  float64\n",
      "dtypes: float64(2), int64(2), object(10)\n",
      "memory usage: 2.0+ MB\n"
     ]
    }
   ],
   "source": [
    "train.info()"
   ]
  },
  {
   "cell_type": "markdown",
   "metadata": {
    "papermill": {
     "duration": 0.042544,
     "end_time": "2021-06-16T06:28:48.095191",
     "exception": false,
     "start_time": "2021-06-16T06:28:48.052647",
     "status": "completed"
    },
    "tags": []
   },
   "source": [
    "company_size와 company_type에서 null이 많으므로 두 변수는 제외하려고 함"
   ]
  },
  {
   "cell_type": "code",
   "execution_count": 7,
   "metadata": {
    "execution": {
     "iopub.execute_input": "2021-06-16T06:28:48.186492Z",
     "iopub.status.busy": "2021-06-16T06:28:48.185503Z",
     "iopub.status.idle": "2021-06-16T06:28:48.190583Z",
     "shell.execute_reply": "2021-06-16T06:28:48.189945Z",
     "shell.execute_reply.started": "2021-06-16T06:24:30.425649Z"
    },
    "papermill": {
     "duration": 0.052925,
     "end_time": "2021-06-16T06:28:48.190727",
     "exception": false,
     "start_time": "2021-06-16T06:28:48.137802",
     "status": "completed"
    },
    "tags": []
   },
   "outputs": [],
   "source": [
    "train=pd.DataFrame(train, columns=['enrollee_id','city', 'city_development_index', 'gender',\n",
    "                                     'relevent_experience', 'enrolled_university', 'education_level',\n",
    "                                     'major_discipline', 'experience', 'last_new_job', 'training_hours', 'target'])"
   ]
  },
  {
   "cell_type": "code",
   "execution_count": 8,
   "metadata": {
    "execution": {
     "iopub.execute_input": "2021-06-16T06:28:48.283646Z",
     "iopub.status.busy": "2021-06-16T06:28:48.283002Z",
     "iopub.status.idle": "2021-06-16T06:28:48.285469Z",
     "shell.execute_reply": "2021-06-16T06:28:48.285908Z",
     "shell.execute_reply.started": "2021-06-16T06:24:30.437388Z"
    },
    "papermill": {
     "duration": 0.052653,
     "end_time": "2021-06-16T06:28:48.286071",
     "exception": false,
     "start_time": "2021-06-16T06:28:48.233418",
     "status": "completed"
    },
    "tags": []
   },
   "outputs": [],
   "source": [
    "test=pd.DataFrame(test, columns=['enrollee_id','city', 'city_development_index', 'gender',\n",
    "                                 'relevent_experience', 'enrolled_university', 'education_level',\n",
    "                                 'major_discipline', 'experience', 'last_new_job', 'training_hours'])"
   ]
  },
  {
   "cell_type": "code",
   "execution_count": 9,
   "metadata": {
    "execution": {
     "iopub.execute_input": "2021-06-16T06:28:48.374198Z",
     "iopub.status.busy": "2021-06-16T06:28:48.373637Z",
     "iopub.status.idle": "2021-06-16T06:28:48.390389Z",
     "shell.execute_reply": "2021-06-16T06:28:48.391330Z",
     "shell.execute_reply.started": "2021-06-16T06:24:30.450209Z"
    },
    "papermill": {
     "duration": 0.063018,
     "end_time": "2021-06-16T06:28:48.391627",
     "exception": false,
     "start_time": "2021-06-16T06:28:48.328609",
     "status": "completed"
    },
    "tags": []
   },
   "outputs": [
    {
     "name": "stdout",
     "output_type": "stream",
     "text": [
      "<class 'pandas.core.frame.DataFrame'>\n",
      "RangeIndex: 2129 entries, 0 to 2128\n",
      "Data columns (total 11 columns):\n",
      " #   Column                  Non-Null Count  Dtype  \n",
      "---  ------                  --------------  -----  \n",
      " 0   enrollee_id             2129 non-null   int64  \n",
      " 1   city                    2129 non-null   object \n",
      " 2   city_development_index  2129 non-null   float64\n",
      " 3   gender                  1621 non-null   object \n",
      " 4   relevent_experience     2129 non-null   object \n",
      " 5   enrolled_university     2098 non-null   object \n",
      " 6   education_level         2077 non-null   object \n",
      " 7   major_discipline        1817 non-null   object \n",
      " 8   experience              2124 non-null   object \n",
      " 9   last_new_job            2089 non-null   object \n",
      " 10  training_hours          2129 non-null   int64  \n",
      "dtypes: float64(1), int64(2), object(8)\n",
      "memory usage: 183.1+ KB\n"
     ]
    }
   ],
   "source": [
    "test.info()"
   ]
  },
  {
   "cell_type": "markdown",
   "metadata": {
    "papermill": {
     "duration": 0.04279,
     "end_time": "2021-06-16T06:28:48.477757",
     "exception": false,
     "start_time": "2021-06-16T06:28:48.434967",
     "status": "completed"
    },
    "tags": []
   },
   "source": [
    "null이 있는 행 삭제"
   ]
  },
  {
   "cell_type": "code",
   "execution_count": 10,
   "metadata": {
    "execution": {
     "iopub.execute_input": "2021-06-16T06:28:48.568003Z",
     "iopub.status.busy": "2021-06-16T06:28:48.567060Z",
     "iopub.status.idle": "2021-06-16T06:28:48.605560Z",
     "shell.execute_reply": "2021-06-16T06:28:48.605013Z",
     "shell.execute_reply.started": "2021-06-16T06:24:30.4738Z"
    },
    "papermill": {
     "duration": 0.084577,
     "end_time": "2021-06-16T06:28:48.605705",
     "exception": false,
     "start_time": "2021-06-16T06:28:48.521128",
     "status": "completed"
    },
    "tags": []
   },
   "outputs": [
    {
     "data": {
      "text/plain": [
       "enrollee_id               0.000000\n",
       "city                      0.000000\n",
       "city_development_index    0.000000\n",
       "gender                    0.235306\n",
       "relevent_experience       0.000000\n",
       "enrolled_university       0.020148\n",
       "education_level           0.024011\n",
       "major_discipline          0.146832\n",
       "experience                0.003393\n",
       "last_new_job              0.022080\n",
       "training_hours            0.000000\n",
       "target                    0.000000\n",
       "dtype: float64"
      ]
     },
     "execution_count": 10,
     "metadata": {},
     "output_type": "execute_result"
    }
   ],
   "source": [
    "train.isnull().sum()/len(train) # count Null"
   ]
  },
  {
   "cell_type": "code",
   "execution_count": 11,
   "metadata": {
    "execution": {
     "iopub.execute_input": "2021-06-16T06:28:48.713448Z",
     "iopub.status.busy": "2021-06-16T06:28:48.712424Z",
     "iopub.status.idle": "2021-06-16T06:28:48.744424Z",
     "shell.execute_reply": "2021-06-16T06:28:48.743848Z",
     "shell.execute_reply.started": "2021-06-16T06:24:30.498481Z"
    },
    "papermill": {
     "duration": 0.094764,
     "end_time": "2021-06-16T06:28:48.744561",
     "exception": false,
     "start_time": "2021-06-16T06:28:48.649797",
     "status": "completed"
    },
    "tags": []
   },
   "outputs": [
    {
     "name": "stdout",
     "output_type": "stream",
     "text": [
      "<class 'pandas.core.frame.DataFrame'>\n",
      "Int64Index: 12477 entries, 0 to 19155\n",
      "Data columns (total 12 columns):\n",
      " #   Column                  Non-Null Count  Dtype  \n",
      "---  ------                  --------------  -----  \n",
      " 0   enrollee_id             12477 non-null  int64  \n",
      " 1   city                    12477 non-null  object \n",
      " 2   city_development_index  12477 non-null  float64\n",
      " 3   gender                  12477 non-null  object \n",
      " 4   relevent_experience     12477 non-null  object \n",
      " 5   enrolled_university     12477 non-null  object \n",
      " 6   education_level         12477 non-null  object \n",
      " 7   major_discipline        12477 non-null  object \n",
      " 8   experience              12477 non-null  object \n",
      " 9   last_new_job            12477 non-null  object \n",
      " 10  training_hours          12477 non-null  int64  \n",
      " 11  target                  12477 non-null  float64\n",
      "dtypes: float64(2), int64(2), object(8)\n",
      "memory usage: 1.2+ MB\n"
     ]
    }
   ],
   "source": [
    "# drop missing data\n",
    "train.dropna(inplace=True)\n",
    "test.dropna(inplace=True)\n",
    "# train_d1=train[['enrolled_university','education_level','experience','last_new_job']].dropna()\n",
    "# train_d1.isnull().sum()\n",
    "train.info()"
   ]
  },
  {
   "cell_type": "code",
   "execution_count": 12,
   "metadata": {
    "execution": {
     "iopub.execute_input": "2021-06-16T06:28:48.846287Z",
     "iopub.status.busy": "2021-06-16T06:28:48.841364Z",
     "iopub.status.idle": "2021-06-16T06:28:48.850824Z",
     "shell.execute_reply": "2021-06-16T06:28:48.850069Z",
     "shell.execute_reply.started": "2021-06-16T06:24:30.54686Z"
    },
    "papermill": {
     "duration": 0.063022,
     "end_time": "2021-06-16T06:28:48.851019",
     "exception": false,
     "start_time": "2021-06-16T06:28:48.787997",
     "status": "completed"
    },
    "tags": []
   },
   "outputs": [
    {
     "name": "stdout",
     "output_type": "stream",
     "text": [
      "<class 'pandas.core.frame.DataFrame'>\n",
      "Int64Index: 1386 entries, 0 to 2128\n",
      "Data columns (total 11 columns):\n",
      " #   Column                  Non-Null Count  Dtype  \n",
      "---  ------                  --------------  -----  \n",
      " 0   enrollee_id             1386 non-null   int64  \n",
      " 1   city                    1386 non-null   object \n",
      " 2   city_development_index  1386 non-null   float64\n",
      " 3   gender                  1386 non-null   object \n",
      " 4   relevent_experience     1386 non-null   object \n",
      " 5   enrolled_university     1386 non-null   object \n",
      " 6   education_level         1386 non-null   object \n",
      " 7   major_discipline        1386 non-null   object \n",
      " 8   experience              1386 non-null   object \n",
      " 9   last_new_job            1386 non-null   object \n",
      " 10  training_hours          1386 non-null   int64  \n",
      "dtypes: float64(1), int64(2), object(8)\n",
      "memory usage: 129.9+ KB\n"
     ]
    }
   ],
   "source": [
    "test.info()"
   ]
  },
  {
   "cell_type": "code",
   "execution_count": 13,
   "metadata": {
    "execution": {
     "iopub.execute_input": "2021-06-16T06:28:48.947091Z",
     "iopub.status.busy": "2021-06-16T06:28:48.946507Z",
     "iopub.status.idle": "2021-06-16T06:28:48.952581Z",
     "shell.execute_reply": "2021-06-16T06:28:48.953062Z",
     "shell.execute_reply.started": "2021-06-16T06:24:30.563834Z"
    },
    "papermill": {
     "duration": 0.05637,
     "end_time": "2021-06-16T06:28:48.953232",
     "exception": false,
     "start_time": "2021-06-16T06:28:48.896862",
     "status": "completed"
    },
    "tags": []
   },
   "outputs": [
    {
     "data": {
      "text/plain": [
       "enrollee_id               0\n",
       "city                      0\n",
       "city_development_index    0\n",
       "gender                    0\n",
       "relevent_experience       0\n",
       "enrolled_university       0\n",
       "education_level           0\n",
       "major_discipline          0\n",
       "experience                0\n",
       "last_new_job              0\n",
       "training_hours            0\n",
       "dtype: int64"
      ]
     },
     "execution_count": 13,
     "metadata": {},
     "output_type": "execute_result"
    }
   ],
   "source": [
    "test.isnull().sum()"
   ]
  },
  {
   "cell_type": "code",
   "execution_count": 14,
   "metadata": {
    "execution": {
     "iopub.execute_input": "2021-06-16T06:28:49.045914Z",
     "iopub.status.busy": "2021-06-16T06:28:49.045205Z",
     "iopub.status.idle": "2021-06-16T06:28:49.067503Z",
     "shell.execute_reply": "2021-06-16T06:28:49.068208Z",
     "shell.execute_reply.started": "2021-06-16T06:24:30.583199Z"
    },
    "papermill": {
     "duration": 0.070879,
     "end_time": "2021-06-16T06:28:49.068440",
     "exception": false,
     "start_time": "2021-06-16T06:28:48.997561",
     "status": "completed"
    },
    "tags": []
   },
   "outputs": [
    {
     "name": "stdout",
     "output_type": "stream",
     "text": [
      "<class 'pandas.core.frame.DataFrame'>\n",
      "Int64Index: 12477 entries, 0 to 19155\n",
      "Data columns (total 12 columns):\n",
      " #   Column                  Non-Null Count  Dtype  \n",
      "---  ------                  --------------  -----  \n",
      " 0   enrollee_id             12477 non-null  int64  \n",
      " 1   city                    12477 non-null  object \n",
      " 2   city_development_index  12477 non-null  float64\n",
      " 3   gender                  12477 non-null  object \n",
      " 4   relevent_experience     12477 non-null  object \n",
      " 5   enrolled_university     12477 non-null  object \n",
      " 6   education_level         12477 non-null  object \n",
      " 7   major_discipline        12477 non-null  object \n",
      " 8   experience              12477 non-null  object \n",
      " 9   last_new_job            12477 non-null  object \n",
      " 10  training_hours          12477 non-null  int64  \n",
      " 11  target                  12477 non-null  float64\n",
      "dtypes: float64(2), int64(2), object(8)\n",
      "memory usage: 1.2+ MB\n"
     ]
    }
   ],
   "source": [
    "train.info()"
   ]
  },
  {
   "cell_type": "code",
   "execution_count": 15,
   "metadata": {
    "execution": {
     "iopub.execute_input": "2021-06-16T06:28:49.161803Z",
     "iopub.status.busy": "2021-06-16T06:28:49.161163Z",
     "iopub.status.idle": "2021-06-16T06:28:49.185250Z",
     "shell.execute_reply": "2021-06-16T06:28:49.185761Z",
     "shell.execute_reply.started": "2021-06-16T06:24:30.615429Z"
    },
    "papermill": {
     "duration": 0.071272,
     "end_time": "2021-06-16T06:28:49.185926",
     "exception": false,
     "start_time": "2021-06-16T06:28:49.114654",
     "status": "completed"
    },
    "tags": []
   },
   "outputs": [
    {
     "data": {
      "text/html": [
       "<div>\n",
       "<style scoped>\n",
       "    .dataframe tbody tr th:only-of-type {\n",
       "        vertical-align: middle;\n",
       "    }\n",
       "\n",
       "    .dataframe tbody tr th {\n",
       "        vertical-align: top;\n",
       "    }\n",
       "\n",
       "    .dataframe thead th {\n",
       "        text-align: right;\n",
       "    }\n",
       "</style>\n",
       "<table border=\"1\" class=\"dataframe\">\n",
       "  <thead>\n",
       "    <tr style=\"text-align: right;\">\n",
       "      <th></th>\n",
       "      <th>enrollee_id</th>\n",
       "      <th>city</th>\n",
       "      <th>city_development_index</th>\n",
       "      <th>gender</th>\n",
       "      <th>relevent_experience</th>\n",
       "      <th>enrolled_university</th>\n",
       "      <th>education_level</th>\n",
       "      <th>major_discipline</th>\n",
       "      <th>experience</th>\n",
       "      <th>last_new_job</th>\n",
       "      <th>training_hours</th>\n",
       "      <th>target</th>\n",
       "    </tr>\n",
       "  </thead>\n",
       "  <tbody>\n",
       "    <tr>\n",
       "      <th>0</th>\n",
       "      <td>8949</td>\n",
       "      <td>city_103</td>\n",
       "      <td>0.920</td>\n",
       "      <td>Male</td>\n",
       "      <td>Has relevent experience</td>\n",
       "      <td>no_enrollment</td>\n",
       "      <td>Graduate</td>\n",
       "      <td>STEM</td>\n",
       "      <td>&gt;20</td>\n",
       "      <td>1</td>\n",
       "      <td>36</td>\n",
       "      <td>1.0</td>\n",
       "    </tr>\n",
       "    <tr>\n",
       "      <th>1</th>\n",
       "      <td>29725</td>\n",
       "      <td>city_40</td>\n",
       "      <td>0.776</td>\n",
       "      <td>Male</td>\n",
       "      <td>No relevent experience</td>\n",
       "      <td>no_enrollment</td>\n",
       "      <td>Graduate</td>\n",
       "      <td>STEM</td>\n",
       "      <td>15</td>\n",
       "      <td>&gt;4</td>\n",
       "      <td>47</td>\n",
       "      <td>0.0</td>\n",
       "    </tr>\n",
       "    <tr>\n",
       "      <th>4</th>\n",
       "      <td>666</td>\n",
       "      <td>city_162</td>\n",
       "      <td>0.767</td>\n",
       "      <td>Male</td>\n",
       "      <td>Has relevent experience</td>\n",
       "      <td>no_enrollment</td>\n",
       "      <td>Masters</td>\n",
       "      <td>STEM</td>\n",
       "      <td>&gt;20</td>\n",
       "      <td>4</td>\n",
       "      <td>8</td>\n",
       "      <td>0.0</td>\n",
       "    </tr>\n",
       "    <tr>\n",
       "      <th>7</th>\n",
       "      <td>402</td>\n",
       "      <td>city_46</td>\n",
       "      <td>0.762</td>\n",
       "      <td>Male</td>\n",
       "      <td>Has relevent experience</td>\n",
       "      <td>no_enrollment</td>\n",
       "      <td>Graduate</td>\n",
       "      <td>STEM</td>\n",
       "      <td>13</td>\n",
       "      <td>&gt;4</td>\n",
       "      <td>18</td>\n",
       "      <td>1.0</td>\n",
       "    </tr>\n",
       "    <tr>\n",
       "      <th>8</th>\n",
       "      <td>27107</td>\n",
       "      <td>city_103</td>\n",
       "      <td>0.920</td>\n",
       "      <td>Male</td>\n",
       "      <td>Has relevent experience</td>\n",
       "      <td>no_enrollment</td>\n",
       "      <td>Graduate</td>\n",
       "      <td>STEM</td>\n",
       "      <td>7</td>\n",
       "      <td>1</td>\n",
       "      <td>46</td>\n",
       "      <td>1.0</td>\n",
       "    </tr>\n",
       "    <tr>\n",
       "      <th>...</th>\n",
       "      <td>...</td>\n",
       "      <td>...</td>\n",
       "      <td>...</td>\n",
       "      <td>...</td>\n",
       "      <td>...</td>\n",
       "      <td>...</td>\n",
       "      <td>...</td>\n",
       "      <td>...</td>\n",
       "      <td>...</td>\n",
       "      <td>...</td>\n",
       "      <td>...</td>\n",
       "      <td>...</td>\n",
       "    </tr>\n",
       "    <tr>\n",
       "      <th>19150</th>\n",
       "      <td>32313</td>\n",
       "      <td>city_160</td>\n",
       "      <td>0.920</td>\n",
       "      <td>Female</td>\n",
       "      <td>Has relevent experience</td>\n",
       "      <td>no_enrollment</td>\n",
       "      <td>Graduate</td>\n",
       "      <td>STEM</td>\n",
       "      <td>10</td>\n",
       "      <td>3</td>\n",
       "      <td>23</td>\n",
       "      <td>0.0</td>\n",
       "    </tr>\n",
       "    <tr>\n",
       "      <th>19152</th>\n",
       "      <td>29754</td>\n",
       "      <td>city_103</td>\n",
       "      <td>0.920</td>\n",
       "      <td>Female</td>\n",
       "      <td>Has relevent experience</td>\n",
       "      <td>no_enrollment</td>\n",
       "      <td>Graduate</td>\n",
       "      <td>Humanities</td>\n",
       "      <td>7</td>\n",
       "      <td>1</td>\n",
       "      <td>25</td>\n",
       "      <td>0.0</td>\n",
       "    </tr>\n",
       "    <tr>\n",
       "      <th>19153</th>\n",
       "      <td>7386</td>\n",
       "      <td>city_173</td>\n",
       "      <td>0.878</td>\n",
       "      <td>Male</td>\n",
       "      <td>No relevent experience</td>\n",
       "      <td>no_enrollment</td>\n",
       "      <td>Graduate</td>\n",
       "      <td>Humanities</td>\n",
       "      <td>14</td>\n",
       "      <td>1</td>\n",
       "      <td>42</td>\n",
       "      <td>1.0</td>\n",
       "    </tr>\n",
       "    <tr>\n",
       "      <th>19154</th>\n",
       "      <td>31398</td>\n",
       "      <td>city_103</td>\n",
       "      <td>0.920</td>\n",
       "      <td>Male</td>\n",
       "      <td>Has relevent experience</td>\n",
       "      <td>no_enrollment</td>\n",
       "      <td>Graduate</td>\n",
       "      <td>STEM</td>\n",
       "      <td>14</td>\n",
       "      <td>4</td>\n",
       "      <td>52</td>\n",
       "      <td>1.0</td>\n",
       "    </tr>\n",
       "    <tr>\n",
       "      <th>19155</th>\n",
       "      <td>24576</td>\n",
       "      <td>city_103</td>\n",
       "      <td>0.920</td>\n",
       "      <td>Male</td>\n",
       "      <td>Has relevent experience</td>\n",
       "      <td>no_enrollment</td>\n",
       "      <td>Graduate</td>\n",
       "      <td>STEM</td>\n",
       "      <td>&gt;20</td>\n",
       "      <td>4</td>\n",
       "      <td>44</td>\n",
       "      <td>0.0</td>\n",
       "    </tr>\n",
       "  </tbody>\n",
       "</table>\n",
       "<p>12477 rows × 12 columns</p>\n",
       "</div>"
      ],
      "text/plain": [
       "       enrollee_id      city  city_development_index  gender  \\\n",
       "0             8949  city_103                   0.920    Male   \n",
       "1            29725   city_40                   0.776    Male   \n",
       "4              666  city_162                   0.767    Male   \n",
       "7              402   city_46                   0.762    Male   \n",
       "8            27107  city_103                   0.920    Male   \n",
       "...            ...       ...                     ...     ...   \n",
       "19150        32313  city_160                   0.920  Female   \n",
       "19152        29754  city_103                   0.920  Female   \n",
       "19153         7386  city_173                   0.878    Male   \n",
       "19154        31398  city_103                   0.920    Male   \n",
       "19155        24576  city_103                   0.920    Male   \n",
       "\n",
       "           relevent_experience enrolled_university education_level  \\\n",
       "0      Has relevent experience       no_enrollment        Graduate   \n",
       "1       No relevent experience       no_enrollment        Graduate   \n",
       "4      Has relevent experience       no_enrollment         Masters   \n",
       "7      Has relevent experience       no_enrollment        Graduate   \n",
       "8      Has relevent experience       no_enrollment        Graduate   \n",
       "...                        ...                 ...             ...   \n",
       "19150  Has relevent experience       no_enrollment        Graduate   \n",
       "19152  Has relevent experience       no_enrollment        Graduate   \n",
       "19153   No relevent experience       no_enrollment        Graduate   \n",
       "19154  Has relevent experience       no_enrollment        Graduate   \n",
       "19155  Has relevent experience       no_enrollment        Graduate   \n",
       "\n",
       "      major_discipline experience last_new_job  training_hours  target  \n",
       "0                 STEM        >20            1              36     1.0  \n",
       "1                 STEM         15           >4              47     0.0  \n",
       "4                 STEM        >20            4               8     0.0  \n",
       "7                 STEM         13           >4              18     1.0  \n",
       "8                 STEM          7            1              46     1.0  \n",
       "...                ...        ...          ...             ...     ...  \n",
       "19150             STEM         10            3              23     0.0  \n",
       "19152       Humanities          7            1              25     0.0  \n",
       "19153       Humanities         14            1              42     1.0  \n",
       "19154             STEM         14            4              52     1.0  \n",
       "19155             STEM        >20            4              44     0.0  \n",
       "\n",
       "[12477 rows x 12 columns]"
      ]
     },
     "execution_count": 15,
     "metadata": {},
     "output_type": "execute_result"
    }
   ],
   "source": [
    "train"
   ]
  },
  {
   "cell_type": "code",
   "execution_count": 16,
   "metadata": {
    "execution": {
     "iopub.execute_input": "2021-06-16T06:28:49.280155Z",
     "iopub.status.busy": "2021-06-16T06:28:49.279606Z",
     "iopub.status.idle": "2021-06-16T06:28:49.287836Z",
     "shell.execute_reply": "2021-06-16T06:28:49.288302Z",
     "shell.execute_reply.started": "2021-06-16T06:24:30.644686Z"
    },
    "papermill": {
     "duration": 0.05677,
     "end_time": "2021-06-16T06:28:49.288500",
     "exception": false,
     "start_time": "2021-06-16T06:28:49.231730",
     "status": "completed"
    },
    "tags": []
   },
   "outputs": [],
   "source": [
    "train = train.drop_duplicates('enrollee_id', keep='last')"
   ]
  },
  {
   "cell_type": "markdown",
   "metadata": {
    "papermill": {
     "duration": 0.044652,
     "end_time": "2021-06-16T06:28:49.378431",
     "exception": false,
     "start_time": "2021-06-16T06:28:49.333779",
     "status": "completed"
    },
    "tags": []
   },
   "source": [
    "object로 들어온 데이터를 정수형으로 바꿔줌 "
   ]
  },
  {
   "cell_type": "code",
   "execution_count": 17,
   "metadata": {
    "execution": {
     "iopub.execute_input": "2021-06-16T06:28:49.471978Z",
     "iopub.status.busy": "2021-06-16T06:28:49.471374Z",
     "iopub.status.idle": "2021-06-16T06:28:49.513585Z",
     "shell.execute_reply": "2021-06-16T06:28:49.514047Z",
     "shell.execute_reply.started": "2021-06-16T06:24:30.658911Z"
    },
    "papermill": {
     "duration": 0.090652,
     "end_time": "2021-06-16T06:28:49.514222",
     "exception": false,
     "start_time": "2021-06-16T06:28:49.423570",
     "status": "completed"
    },
    "tags": []
   },
   "outputs": [],
   "source": [
    "from sklearn.preprocessing import LabelEncoder\n",
    "\n",
    "le = LabelEncoder()\n",
    "for x in train:\n",
    "    if train[x].dtypes=='object':\n",
    "        train[x] = le.fit_transform(train[x])\n",
    "# we have transformed all the non numeric data columns into data columns\n",
    "# this method applies 0,1.. classification to different value types."
   ]
  },
  {
   "cell_type": "code",
   "execution_count": 18,
   "metadata": {
    "execution": {
     "iopub.execute_input": "2021-06-16T06:28:49.608106Z",
     "iopub.status.busy": "2021-06-16T06:28:49.607511Z",
     "iopub.status.idle": "2021-06-16T06:28:49.624629Z",
     "shell.execute_reply": "2021-06-16T06:28:49.624089Z",
     "shell.execute_reply.started": "2021-06-16T06:24:30.708207Z"
    },
    "papermill": {
     "duration": 0.064903,
     "end_time": "2021-06-16T06:28:49.624761",
     "exception": false,
     "start_time": "2021-06-16T06:28:49.559858",
     "status": "completed"
    },
    "tags": []
   },
   "outputs": [
    {
     "data": {
      "text/plain": [
       "city_development_index   -0.320513\n",
       "enrolled_university      -0.160759\n",
       "education_level          -0.079941\n",
       "training_hours           -0.022063\n",
       "gender                   -0.011310\n",
       "last_new_job             -0.005256\n",
       "experience                0.002124\n",
       "major_discipline          0.011371\n",
       "city                      0.043776\n",
       "enrollee_id               0.046728\n",
       "relevent_experience       0.161558\n",
       "target                    1.000000\n",
       "Name: target, dtype: float64"
      ]
     },
     "execution_count": 18,
     "metadata": {},
     "output_type": "execute_result"
    }
   ],
   "source": [
    "train.corr()['target'].sort_values()"
   ]
  },
  {
   "cell_type": "code",
   "execution_count": 19,
   "metadata": {
    "execution": {
     "iopub.execute_input": "2021-06-16T06:28:49.722233Z",
     "iopub.status.busy": "2021-06-16T06:28:49.721596Z",
     "iopub.status.idle": "2021-06-16T06:28:49.771245Z",
     "shell.execute_reply": "2021-06-16T06:28:49.770736Z",
     "shell.execute_reply.started": "2021-06-16T06:24:30.723754Z"
    },
    "papermill": {
     "duration": 0.10087,
     "end_time": "2021-06-16T06:28:49.771397",
     "exception": false,
     "start_time": "2021-06-16T06:28:49.670527",
     "status": "completed"
    },
    "tags": []
   },
   "outputs": [
    {
     "data": {
      "text/html": [
       "<div>\n",
       "<style scoped>\n",
       "    .dataframe tbody tr th:only-of-type {\n",
       "        vertical-align: middle;\n",
       "    }\n",
       "\n",
       "    .dataframe tbody tr th {\n",
       "        vertical-align: top;\n",
       "    }\n",
       "\n",
       "    .dataframe thead th {\n",
       "        text-align: right;\n",
       "    }\n",
       "</style>\n",
       "<table border=\"1\" class=\"dataframe\">\n",
       "  <thead>\n",
       "    <tr style=\"text-align: right;\">\n",
       "      <th></th>\n",
       "      <th>count</th>\n",
       "      <th>mean</th>\n",
       "      <th>std</th>\n",
       "      <th>min</th>\n",
       "      <th>25%</th>\n",
       "      <th>50%</th>\n",
       "      <th>75%</th>\n",
       "      <th>max</th>\n",
       "    </tr>\n",
       "  </thead>\n",
       "  <tbody>\n",
       "    <tr>\n",
       "      <th>enrollee_id</th>\n",
       "      <td>12477.0</td>\n",
       "      <td>17116.220726</td>\n",
       "      <td>9867.593797</td>\n",
       "      <td>2.000</td>\n",
       "      <td>8549.000</td>\n",
       "      <td>17343.00</td>\n",
       "      <td>26046.00</td>\n",
       "      <td>33380.000</td>\n",
       "    </tr>\n",
       "    <tr>\n",
       "      <th>city</th>\n",
       "      <td>12477.0</td>\n",
       "      <td>41.814459</td>\n",
       "      <td>34.875137</td>\n",
       "      <td>0.000</td>\n",
       "      <td>5.000</td>\n",
       "      <td>47.00</td>\n",
       "      <td>62.00</td>\n",
       "      <td>119.000</td>\n",
       "    </tr>\n",
       "    <tr>\n",
       "      <th>city_development_index</th>\n",
       "      <td>12477.0</td>\n",
       "      <td>0.840812</td>\n",
       "      <td>0.117038</td>\n",
       "      <td>0.448</td>\n",
       "      <td>0.767</td>\n",
       "      <td>0.91</td>\n",
       "      <td>0.92</td>\n",
       "      <td>0.949</td>\n",
       "    </tr>\n",
       "    <tr>\n",
       "      <th>gender</th>\n",
       "      <td>12477.0</td>\n",
       "      <td>0.919612</td>\n",
       "      <td>0.309149</td>\n",
       "      <td>0.000</td>\n",
       "      <td>1.000</td>\n",
       "      <td>1.00</td>\n",
       "      <td>1.00</td>\n",
       "      <td>2.000</td>\n",
       "    </tr>\n",
       "    <tr>\n",
       "      <th>relevent_experience</th>\n",
       "      <td>12477.0</td>\n",
       "      <td>0.199327</td>\n",
       "      <td>0.399510</td>\n",
       "      <td>0.000</td>\n",
       "      <td>0.000</td>\n",
       "      <td>0.00</td>\n",
       "      <td>0.00</td>\n",
       "      <td>1.000</td>\n",
       "    </tr>\n",
       "    <tr>\n",
       "      <th>enrolled_university</th>\n",
       "      <td>12477.0</td>\n",
       "      <td>1.643584</td>\n",
       "      <td>0.726012</td>\n",
       "      <td>0.000</td>\n",
       "      <td>2.000</td>\n",
       "      <td>2.00</td>\n",
       "      <td>2.00</td>\n",
       "      <td>2.000</td>\n",
       "    </tr>\n",
       "    <tr>\n",
       "      <th>education_level</th>\n",
       "      <td>12477.0</td>\n",
       "      <td>0.314098</td>\n",
       "      <td>0.517260</td>\n",
       "      <td>0.000</td>\n",
       "      <td>0.000</td>\n",
       "      <td>0.00</td>\n",
       "      <td>1.00</td>\n",
       "      <td>2.000</td>\n",
       "    </tr>\n",
       "    <tr>\n",
       "      <th>major_discipline</th>\n",
       "      <td>12477.0</td>\n",
       "      <td>4.656167</td>\n",
       "      <td>1.039958</td>\n",
       "      <td>0.000</td>\n",
       "      <td>5.000</td>\n",
       "      <td>5.00</td>\n",
       "      <td>5.00</td>\n",
       "      <td>5.000</td>\n",
       "    </tr>\n",
       "    <tr>\n",
       "      <th>experience</th>\n",
       "      <td>12477.0</td>\n",
       "      <td>12.978120</td>\n",
       "      <td>6.817392</td>\n",
       "      <td>0.000</td>\n",
       "      <td>7.000</td>\n",
       "      <td>15.00</td>\n",
       "      <td>19.00</td>\n",
       "      <td>21.000</td>\n",
       "    </tr>\n",
       "    <tr>\n",
       "      <th>last_new_job</th>\n",
       "      <td>12477.0</td>\n",
       "      <td>1.664182</td>\n",
       "      <td>1.825791</td>\n",
       "      <td>0.000</td>\n",
       "      <td>0.000</td>\n",
       "      <td>1.00</td>\n",
       "      <td>4.00</td>\n",
       "      <td>5.000</td>\n",
       "    </tr>\n",
       "    <tr>\n",
       "      <th>training_hours</th>\n",
       "      <td>12477.0</td>\n",
       "      <td>64.927306</td>\n",
       "      <td>59.732622</td>\n",
       "      <td>1.000</td>\n",
       "      <td>23.000</td>\n",
       "      <td>47.00</td>\n",
       "      <td>88.00</td>\n",
       "      <td>336.000</td>\n",
       "    </tr>\n",
       "    <tr>\n",
       "      <th>target</th>\n",
       "      <td>12477.0</td>\n",
       "      <td>0.237717</td>\n",
       "      <td>0.425702</td>\n",
       "      <td>0.000</td>\n",
       "      <td>0.000</td>\n",
       "      <td>0.00</td>\n",
       "      <td>0.00</td>\n",
       "      <td>1.000</td>\n",
       "    </tr>\n",
       "  </tbody>\n",
       "</table>\n",
       "</div>"
      ],
      "text/plain": [
       "                          count          mean          std    min       25%  \\\n",
       "enrollee_id             12477.0  17116.220726  9867.593797  2.000  8549.000   \n",
       "city                    12477.0     41.814459    34.875137  0.000     5.000   \n",
       "city_development_index  12477.0      0.840812     0.117038  0.448     0.767   \n",
       "gender                  12477.0      0.919612     0.309149  0.000     1.000   \n",
       "relevent_experience     12477.0      0.199327     0.399510  0.000     0.000   \n",
       "enrolled_university     12477.0      1.643584     0.726012  0.000     2.000   \n",
       "education_level         12477.0      0.314098     0.517260  0.000     0.000   \n",
       "major_discipline        12477.0      4.656167     1.039958  0.000     5.000   \n",
       "experience              12477.0     12.978120     6.817392  0.000     7.000   \n",
       "last_new_job            12477.0      1.664182     1.825791  0.000     0.000   \n",
       "training_hours          12477.0     64.927306    59.732622  1.000    23.000   \n",
       "target                  12477.0      0.237717     0.425702  0.000     0.000   \n",
       "\n",
       "                             50%       75%        max  \n",
       "enrollee_id             17343.00  26046.00  33380.000  \n",
       "city                       47.00     62.00    119.000  \n",
       "city_development_index      0.91      0.92      0.949  \n",
       "gender                      1.00      1.00      2.000  \n",
       "relevent_experience         0.00      0.00      1.000  \n",
       "enrolled_university         2.00      2.00      2.000  \n",
       "education_level             0.00      1.00      2.000  \n",
       "major_discipline            5.00      5.00      5.000  \n",
       "experience                 15.00     19.00     21.000  \n",
       "last_new_job                1.00      4.00      5.000  \n",
       "training_hours             47.00     88.00    336.000  \n",
       "target                      0.00      0.00      1.000  "
      ]
     },
     "execution_count": 19,
     "metadata": {},
     "output_type": "execute_result"
    }
   ],
   "source": [
    "train.describe().transpose()"
   ]
  },
  {
   "cell_type": "code",
   "execution_count": 20,
   "metadata": {
    "execution": {
     "iopub.execute_input": "2021-06-16T06:28:49.870192Z",
     "iopub.status.busy": "2021-06-16T06:28:49.869504Z",
     "iopub.status.idle": "2021-06-16T06:28:49.880794Z",
     "shell.execute_reply": "2021-06-16T06:28:49.881402Z",
     "shell.execute_reply.started": "2021-06-16T06:24:30.780467Z"
    },
    "papermill": {
     "duration": 0.063865,
     "end_time": "2021-06-16T06:28:49.881570",
     "exception": false,
     "start_time": "2021-06-16T06:28:49.817705",
     "status": "completed"
    },
    "tags": []
   },
   "outputs": [
    {
     "name": "stdout",
     "output_type": "stream",
     "text": [
      "<class 'pandas.core.frame.DataFrame'>\n",
      "Int64Index: 12477 entries, 0 to 19155\n",
      "Data columns (total 12 columns):\n",
      " #   Column                  Non-Null Count  Dtype  \n",
      "---  ------                  --------------  -----  \n",
      " 0   enrollee_id             12477 non-null  int64  \n",
      " 1   city                    12477 non-null  int64  \n",
      " 2   city_development_index  12477 non-null  float64\n",
      " 3   gender                  12477 non-null  int64  \n",
      " 4   relevent_experience     12477 non-null  int64  \n",
      " 5   enrolled_university     12477 non-null  int64  \n",
      " 6   education_level         12477 non-null  int64  \n",
      " 7   major_discipline        12477 non-null  int64  \n",
      " 8   experience              12477 non-null  int64  \n",
      " 9   last_new_job            12477 non-null  int64  \n",
      " 10  training_hours          12477 non-null  int64  \n",
      " 11  target                  12477 non-null  float64\n",
      "dtypes: float64(2), int64(10)\n",
      "memory usage: 1.2 MB\n"
     ]
    }
   ],
   "source": [
    "train.info()"
   ]
  },
  {
   "cell_type": "markdown",
   "metadata": {
    "papermill": {
     "duration": 0.046693,
     "end_time": "2021-06-16T06:28:49.976612",
     "exception": false,
     "start_time": "2021-06-16T06:28:49.929919",
     "status": "completed"
    },
    "tags": []
   },
   "source": [
    "target의 분포 확인"
   ]
  },
  {
   "cell_type": "code",
   "execution_count": 21,
   "metadata": {
    "execution": {
     "iopub.execute_input": "2021-06-16T06:28:50.074263Z",
     "iopub.status.busy": "2021-06-16T06:28:50.073641Z",
     "iopub.status.idle": "2021-06-16T06:28:50.259390Z",
     "shell.execute_reply": "2021-06-16T06:28:50.258861Z",
     "shell.execute_reply.started": "2021-06-16T06:24:30.797147Z"
    },
    "papermill": {
     "duration": 0.235805,
     "end_time": "2021-06-16T06:28:50.259545",
     "exception": false,
     "start_time": "2021-06-16T06:28:50.023740",
     "status": "completed"
    },
    "tags": []
   },
   "outputs": [
    {
     "data": {
      "image/png": "[encoded data removed]",
      "text/plain": [
       "<Figure size 432x288 with 1 Axes>"
      ]
     },
     "metadata": {
      "needs_background": "light"
     },
     "output_type": "display_data"
    }
   ],
   "source": [
    "plt.hist(train['target'], label='Target');\n",
    "plt.legend();"
   ]
  },
  {
   "cell_type": "markdown",
   "metadata": {
    "papermill": {
     "duration": 0.047407,
     "end_time": "2021-06-16T06:28:50.354530",
     "exception": false,
     "start_time": "2021-06-16T06:28:50.307123",
     "status": "completed"
    },
    "tags": []
   },
   "source": [
    "enrollee_id는 target 예측에 불필요할 것으로 생각되어 제외, city 변수는 city_development_index에 포함될 거라 생각하여 임의로 제외"
   ]
  },
  {
   "cell_type": "code",
   "execution_count": 22,
   "metadata": {
    "execution": {
     "iopub.execute_input": "2021-06-16T06:28:50.456308Z",
     "iopub.status.busy": "2021-06-16T06:28:50.455697Z",
     "iopub.status.idle": "2021-06-16T06:28:50.458085Z",
     "shell.execute_reply": "2021-06-16T06:28:50.458579Z",
     "shell.execute_reply.started": "2021-06-16T06:24:30.963908Z"
    },
    "papermill": {
     "duration": 0.056757,
     "end_time": "2021-06-16T06:28:50.458820",
     "exception": false,
     "start_time": "2021-06-16T06:28:50.402063",
     "status": "completed"
    },
    "tags": []
   },
   "outputs": [],
   "source": [
    "train_x=pd.DataFrame(train, columns=['city_development_index', 'gender',\n",
    "                                     'relevent_experience', 'enrolled_university', 'education_level',\n",
    "                                     'major_discipline', 'experience','last_new_job', 'training_hours'])"
   ]
  },
  {
   "cell_type": "code",
   "execution_count": 23,
   "metadata": {
    "execution": {
     "iopub.execute_input": "2021-06-16T06:28:50.557131Z",
     "iopub.status.busy": "2021-06-16T06:28:50.556521Z",
     "iopub.status.idle": "2021-06-16T06:28:50.560930Z",
     "shell.execute_reply": "2021-06-16T06:28:50.561537Z",
     "shell.execute_reply.started": "2021-06-16T06:24:30.975114Z"
    },
    "papermill": {
     "duration": 0.055084,
     "end_time": "2021-06-16T06:28:50.561706",
     "exception": false,
     "start_time": "2021-06-16T06:28:50.506622",
     "status": "completed"
    },
    "tags": []
   },
   "outputs": [
    {
     "data": {
      "text/plain": [
       "(12477, 9)"
      ]
     },
     "execution_count": 23,
     "metadata": {},
     "output_type": "execute_result"
    }
   ],
   "source": [
    "train_x.shape"
   ]
  },
  {
   "cell_type": "markdown",
   "metadata": {
    "papermill": {
     "duration": 0.047547,
     "end_time": "2021-06-16T06:28:50.656946",
     "exception": false,
     "start_time": "2021-06-16T06:28:50.609399",
     "status": "completed"
    },
    "tags": []
   },
   "source": [
    "heatmap으로 변수간의 상관관계 확인"
   ]
  },
  {
   "cell_type": "code",
   "execution_count": 24,
   "metadata": {
    "execution": {
     "iopub.execute_input": "2021-06-16T06:28:50.755257Z",
     "iopub.status.busy": "2021-06-16T06:28:50.754646Z",
     "iopub.status.idle": "2021-06-16T06:28:51.133720Z",
     "shell.execute_reply": "2021-06-16T06:28:51.133144Z",
     "shell.execute_reply.started": "2021-06-16T06:24:30.993815Z"
    },
    "papermill": {
     "duration": 0.429225,
     "end_time": "2021-06-16T06:28:51.133869",
     "exception": false,
     "start_time": "2021-06-16T06:28:50.704644",
     "status": "completed"
    },
    "tags": []
   },
   "outputs": [
    {
     "data": {
      "text/plain": [
       "<AxesSubplot:>"
      ]
     },
     "execution_count": 24,
     "metadata": {},
     "output_type": "execute_result"
    },
    {
     "data": {
      "image/png": "[encoded data removed]",
      "text/plain": [
       "<Figure size 720x432 with 2 Axes>"
      ]
     },
     "metadata": {
      "needs_background": "light"
     },
     "output_type": "display_data"
    }
   ],
   "source": [
    "f, ax = plt.subplots(figsize=(10, 6))\n",
    "corr = train_x.corr()\n",
    "sns.heatmap(corr, mask=np.zeros_like(corr, dtype=np.bool), cmap=sns.diverging_palette(240,10,as_cmap=True),\n",
    "            square=True, ax=ax)"
   ]
  },
  {
   "cell_type": "code",
   "execution_count": 25,
   "metadata": {
    "execution": {
     "iopub.execute_input": "2021-06-16T06:28:51.238564Z",
     "iopub.status.busy": "2021-06-16T06:28:51.237907Z",
     "iopub.status.idle": "2021-06-16T06:28:51.240921Z",
     "shell.execute_reply": "2021-06-16T06:28:51.240437Z",
     "shell.execute_reply.started": "2021-06-16T06:24:31.385225Z"
    },
    "papermill": {
     "duration": 0.057315,
     "end_time": "2021-06-16T06:28:51.241055",
     "exception": false,
     "start_time": "2021-06-16T06:28:51.183740",
     "status": "completed"
    },
    "tags": []
   },
   "outputs": [],
   "source": [
    "train_y=train.target"
   ]
  },
  {
   "cell_type": "code",
   "execution_count": 26,
   "metadata": {
    "execution": {
     "iopub.execute_input": "2021-06-16T06:28:51.348857Z",
     "iopub.status.busy": "2021-06-16T06:28:51.348150Z",
     "iopub.status.idle": "2021-06-16T06:28:51.353330Z",
     "shell.execute_reply": "2021-06-16T06:28:51.352709Z",
     "shell.execute_reply.started": "2021-06-16T06:24:31.391298Z"
    },
    "papermill": {
     "duration": 0.06039,
     "end_time": "2021-06-16T06:28:51.353510",
     "exception": false,
     "start_time": "2021-06-16T06:28:51.293120",
     "status": "completed"
    },
    "tags": []
   },
   "outputs": [],
   "source": [
    "X_train, X_test, y_train, y_test = train_test_split(train_x, train_y, test_size=0.2, random_state=42)"
   ]
  },
  {
   "cell_type": "code",
   "execution_count": 27,
   "metadata": {
    "execution": {
     "iopub.execute_input": "2021-06-16T06:28:51.458239Z",
     "iopub.status.busy": "2021-06-16T06:28:51.457483Z",
     "iopub.status.idle": "2021-06-16T06:28:51.460206Z",
     "shell.execute_reply": "2021-06-16T06:28:51.459738Z",
     "shell.execute_reply.started": "2021-06-16T06:24:31.408197Z"
    },
    "papermill": {
     "duration": 0.056862,
     "end_time": "2021-06-16T06:28:51.460355",
     "exception": false,
     "start_time": "2021-06-16T06:28:51.403493",
     "status": "completed"
    },
    "tags": []
   },
   "outputs": [],
   "source": [
    "from sklearn.preprocessing import MinMaxScaler\n",
    "scaler = MinMaxScaler()"
   ]
  },
  {
   "cell_type": "code",
   "execution_count": 28,
   "metadata": {
    "execution": {
     "iopub.execute_input": "2021-06-16T06:28:51.566282Z",
     "iopub.status.busy": "2021-06-16T06:28:51.565634Z",
     "iopub.status.idle": "2021-06-16T06:28:51.572699Z",
     "shell.execute_reply": "2021-06-16T06:28:51.571841Z",
     "shell.execute_reply.started": "2021-06-16T06:24:31.417243Z"
    },
    "papermill": {
     "duration": 0.062564,
     "end_time": "2021-06-16T06:28:51.572856",
     "exception": false,
     "start_time": "2021-06-16T06:28:51.510292",
     "status": "completed"
    },
    "tags": []
   },
   "outputs": [
    {
     "data": {
      "text/plain": [
       "MinMaxScaler()"
      ]
     },
     "execution_count": 28,
     "metadata": {},
     "output_type": "execute_result"
    }
   ],
   "source": [
    "scaler.fit(X_train)"
   ]
  },
  {
   "cell_type": "code",
   "execution_count": 29,
   "metadata": {
    "execution": {
     "iopub.execute_input": "2021-06-16T06:28:51.678714Z",
     "iopub.status.busy": "2021-06-16T06:28:51.678026Z",
     "iopub.status.idle": "2021-06-16T06:28:51.683887Z",
     "shell.execute_reply": "2021-06-16T06:28:51.684400Z",
     "shell.execute_reply.started": "2021-06-16T06:24:31.43417Z"
    },
    "papermill": {
     "duration": 0.061923,
     "end_time": "2021-06-16T06:28:51.684575",
     "exception": false,
     "start_time": "2021-06-16T06:28:51.622652",
     "status": "completed"
    },
    "tags": []
   },
   "outputs": [],
   "source": [
    "X_train = scaler.transform(X_train)\n",
    "X_test = scaler.transform(X_test)"
   ]
  },
  {
   "cell_type": "code",
   "execution_count": 30,
   "metadata": {
    "execution": {
     "iopub.execute_input": "2021-06-16T06:28:51.789134Z",
     "iopub.status.busy": "2021-06-16T06:28:51.788421Z",
     "iopub.status.idle": "2021-06-16T06:28:57.325708Z",
     "shell.execute_reply": "2021-06-16T06:28:57.326191Z",
     "shell.execute_reply.started": "2021-06-16T06:24:31.449622Z"
    },
    "papermill": {
     "duration": 5.591882,
     "end_time": "2021-06-16T06:28:57.326396",
     "exception": false,
     "start_time": "2021-06-16T06:28:51.734514",
     "status": "completed"
    },
    "tags": []
   },
   "outputs": [],
   "source": [
    "from tensorflow.keras import models\n",
    "from tensorflow.keras import layers"
   ]
  },
  {
   "cell_type": "code",
   "execution_count": 31,
   "metadata": {
    "execution": {
     "iopub.execute_input": "2021-06-16T06:28:57.432804Z",
     "iopub.status.busy": "2021-06-16T06:28:57.432095Z",
     "iopub.status.idle": "2021-06-16T06:28:57.488671Z",
     "shell.execute_reply": "2021-06-16T06:28:57.489500Z",
     "shell.execute_reply.started": "2021-06-16T06:24:31.461866Z"
    },
    "papermill": {
     "duration": 0.113489,
     "end_time": "2021-06-16T06:28:57.489764",
     "exception": false,
     "start_time": "2021-06-16T06:28:57.376275",
     "status": "completed"
    },
    "tags": []
   },
   "outputs": [],
   "source": [
    "model = models.Sequential()\n",
    "\n",
    "model.add(layers.Dense(9, activation='relu'))\n",
    "model.add(layers.Dense(3, activation='relu'))\n",
    "model.add(layers.Dense(3, activation='relu'))\n",
    "model.add(layers.Dense(1, activation='sigmoid'))\n",
    "model.compile(optimizer='adam',\n",
    "              loss='binary_crossentropy')\n",
    "#              , # Target 0 또는 1로 예측\n",
    "#              metrics=['accuracy'])"
   ]
  },
  {
   "cell_type": "code",
   "execution_count": 32,
   "metadata": {
    "execution": {
     "iopub.execute_input": "2021-06-16T06:28:57.595807Z",
     "iopub.status.busy": "2021-06-16T06:28:57.594983Z",
     "iopub.status.idle": "2021-06-16T06:29:01.007650Z",
     "shell.execute_reply": "2021-06-16T06:29:01.007069Z",
     "shell.execute_reply.started": "2021-06-16T06:24:31.489604Z"
    },
    "papermill": {
     "duration": 3.467827,
     "end_time": "2021-06-16T06:29:01.007806",
     "exception": false,
     "start_time": "2021-06-16T06:28:57.539979",
     "status": "completed"
    },
    "tags": []
   },
   "outputs": [],
   "source": [
    "history = model.fit(X_train, y_train,validation_data=(X_test,y_test),epochs=10, batch_size=64,verbose=0)"
   ]
  },
  {
   "cell_type": "code",
   "execution_count": 33,
   "metadata": {
    "execution": {
     "iopub.execute_input": "2021-06-16T06:29:01.114570Z",
     "iopub.status.busy": "2021-06-16T06:29:01.113778Z",
     "iopub.status.idle": "2021-06-16T06:29:01.120130Z",
     "shell.execute_reply": "2021-06-16T06:29:01.119605Z",
     "shell.execute_reply.started": "2021-06-16T06:24:34.243122Z"
    },
    "papermill": {
     "duration": 0.061261,
     "end_time": "2021-06-16T06:29:01.120262",
     "exception": false,
     "start_time": "2021-06-16T06:29:01.059001",
     "status": "completed"
    },
    "tags": []
   },
   "outputs": [
    {
     "name": "stdout",
     "output_type": "stream",
     "text": [
      "Model: \"sequential\"\n",
      "_________________________________________________________________\n",
      "Layer (type)                 Output Shape              Param #   \n",
      "=================================================================\n",
      "dense (Dense)                (None, 9)                 90        \n",
      "_________________________________________________________________\n",
      "dense_1 (Dense)              (None, 3)                 30        \n",
      "_________________________________________________________________\n",
      "dense_2 (Dense)              (None, 3)                 12        \n",
      "_________________________________________________________________\n",
      "dense_3 (Dense)              (None, 1)                 4         \n",
      "=================================================================\n",
      "Total params: 136\n",
      "Trainable params: 136\n",
      "Non-trainable params: 0\n",
      "_________________________________________________________________\n",
      "None\n"
     ]
    }
   ],
   "source": [
    "print(model.summary())"
   ]
  },
  {
   "cell_type": "code",
   "execution_count": 34,
   "metadata": {
    "execution": {
     "iopub.execute_input": "2021-06-16T06:29:01.226637Z",
     "iopub.status.busy": "2021-06-16T06:29:01.225991Z",
     "iopub.status.idle": "2021-06-16T06:29:01.429648Z",
     "shell.execute_reply": "2021-06-16T06:29:01.430191Z",
     "shell.execute_reply.started": "2021-06-16T06:24:34.253223Z"
    },
    "papermill": {
     "duration": 0.259905,
     "end_time": "2021-06-16T06:29:01.430407",
     "exception": false,
     "start_time": "2021-06-16T06:29:01.170502",
     "status": "completed"
    },
    "tags": []
   },
   "outputs": [
    {
     "data": {
      "text/plain": [
       "<AxesSubplot:>"
      ]
     },
     "execution_count": 34,
     "metadata": {},
     "output_type": "execute_result"
    },
    {
     "data": {
      "image/png": "[encoded data removed]",
      "text/plain": [
       "<Figure size 432x288 with 1 Axes>"
      ]
     },
     "metadata": {
      "needs_background": "light"
     },
     "output_type": "display_data"
    }
   ],
   "source": [
    "model_loss = pd.DataFrame(model.history.history)\n",
    "model_loss.plot()"
   ]
  },
  {
   "cell_type": "markdown",
   "metadata": {
    "papermill": {
     "duration": 0.054578,
     "end_time": "2021-06-16T06:29:01.543532",
     "exception": false,
     "start_time": "2021-06-16T06:29:01.488954",
     "status": "completed"
    },
    "tags": []
   },
   "source": [
    "생성된 모델을 test data에 넣어서 예상값 확인하기"
   ]
  },
  {
   "cell_type": "code",
   "execution_count": 35,
   "metadata": {
    "execution": {
     "iopub.execute_input": "2021-06-16T06:29:01.664976Z",
     "iopub.status.busy": "2021-06-16T06:29:01.664042Z",
     "iopub.status.idle": "2021-06-16T06:29:01.667509Z",
     "shell.execute_reply": "2021-06-16T06:29:01.666751Z",
     "shell.execute_reply.started": "2021-06-16T06:24:34.414533Z"
    },
    "papermill": {
     "duration": 0.062674,
     "end_time": "2021-06-16T06:29:01.667691",
     "exception": false,
     "start_time": "2021-06-16T06:29:01.605017",
     "status": "completed"
    },
    "tags": []
   },
   "outputs": [],
   "source": [
    "testt=pd.DataFrame(test, columns=['city_development_index', 'gender',\n",
    "                                  'relevent_experience', 'enrolled_university', 'education_level',\n",
    "                                  'major_discipline', 'experience','last_new_job', 'training_hours'])"
   ]
  },
  {
   "cell_type": "code",
   "execution_count": 36,
   "metadata": {
    "execution": {
     "iopub.execute_input": "2021-06-16T06:29:01.793217Z",
     "iopub.status.busy": "2021-06-16T06:29:01.792560Z",
     "iopub.status.idle": "2021-06-16T06:29:01.797089Z",
     "shell.execute_reply": "2021-06-16T06:29:01.796579Z",
     "shell.execute_reply.started": "2021-06-16T06:24:34.420969Z"
    },
    "papermill": {
     "duration": 0.071293,
     "end_time": "2021-06-16T06:29:01.797220",
     "exception": false,
     "start_time": "2021-06-16T06:29:01.725927",
     "status": "completed"
    },
    "tags": []
   },
   "outputs": [
    {
     "name": "stdout",
     "output_type": "stream",
     "text": [
      "<class 'pandas.core.frame.DataFrame'>\n",
      "Int64Index: 1386 entries, 0 to 2128\n",
      "Data columns (total 9 columns):\n",
      " #   Column                  Non-Null Count  Dtype  \n",
      "---  ------                  --------------  -----  \n",
      " 0   city_development_index  1386 non-null   float64\n",
      " 1   gender                  1386 non-null   object \n",
      " 2   relevent_experience     1386 non-null   object \n",
      " 3   enrolled_university     1386 non-null   object \n",
      " 4   education_level         1386 non-null   object \n",
      " 5   major_discipline        1386 non-null   object \n",
      " 6   experience              1386 non-null   object \n",
      " 7   last_new_job            1386 non-null   object \n",
      " 8   training_hours          1386 non-null   int64  \n",
      "dtypes: float64(1), int64(1), object(7)\n",
      "memory usage: 108.3+ KB\n"
     ]
    }
   ],
   "source": [
    "testt.info()"
   ]
  },
  {
   "cell_type": "code",
   "execution_count": 37,
   "metadata": {
    "execution": {
     "iopub.execute_input": "2021-06-16T06:29:01.916056Z",
     "iopub.status.busy": "2021-06-16T06:29:01.915315Z",
     "iopub.status.idle": "2021-06-16T06:29:01.920801Z",
     "shell.execute_reply": "2021-06-16T06:29:01.921254Z",
     "shell.execute_reply.started": "2021-06-16T06:24:34.445263Z"
    },
    "papermill": {
     "duration": 0.071913,
     "end_time": "2021-06-16T06:29:01.921462",
     "exception": false,
     "start_time": "2021-06-16T06:29:01.849549",
     "status": "completed"
    },
    "tags": []
   },
   "outputs": [],
   "source": [
    "# object로 들어온 데이터를 정수형으로 바꿔줌 \n",
    "le = LabelEncoder()\n",
    "for x in testt:\n",
    "    if testt[x].dtypes=='object':\n",
    "        testt[x] = le.fit_transform(testt[x])"
   ]
  },
  {
   "cell_type": "code",
   "execution_count": 38,
   "metadata": {
    "execution": {
     "iopub.execute_input": "2021-06-16T06:29:02.044120Z",
     "iopub.status.busy": "2021-06-16T06:29:02.043395Z",
     "iopub.status.idle": "2021-06-16T06:29:02.047608Z",
     "shell.execute_reply": "2021-06-16T06:29:02.046992Z",
     "shell.execute_reply.started": "2021-06-16T06:24:34.465476Z"
    },
    "papermill": {
     "duration": 0.073976,
     "end_time": "2021-06-16T06:29:02.047743",
     "exception": false,
     "start_time": "2021-06-16T06:29:01.973767",
     "status": "completed"
    },
    "tags": []
   },
   "outputs": [
    {
     "name": "stdout",
     "output_type": "stream",
     "text": [
      "<class 'pandas.core.frame.DataFrame'>\n",
      "Int64Index: 1386 entries, 0 to 2128\n",
      "Data columns (total 9 columns):\n",
      " #   Column                  Non-Null Count  Dtype  \n",
      "---  ------                  --------------  -----  \n",
      " 0   city_development_index  1386 non-null   float64\n",
      " 1   gender                  1386 non-null   int64  \n",
      " 2   relevent_experience     1386 non-null   int64  \n",
      " 3   enrolled_university     1386 non-null   int64  \n",
      " 4   education_level         1386 non-null   int64  \n",
      " 5   major_discipline        1386 non-null   int64  \n",
      " 6   experience              1386 non-null   int64  \n",
      " 7   last_new_job            1386 non-null   int64  \n",
      " 8   training_hours          1386 non-null   int64  \n",
      "dtypes: float64(1), int64(8)\n",
      "memory usage: 108.3 KB\n"
     ]
    }
   ],
   "source": [
    "testt.info()"
   ]
  },
  {
   "cell_type": "code",
   "execution_count": 39,
   "metadata": {
    "execution": {
     "iopub.execute_input": "2021-06-16T06:29:02.157087Z",
     "iopub.status.busy": "2021-06-16T06:29:02.156468Z",
     "iopub.status.idle": "2021-06-16T06:29:02.313895Z",
     "shell.execute_reply": "2021-06-16T06:29:02.313360Z",
     "shell.execute_reply.started": "2021-06-16T06:24:34.491324Z"
    },
    "papermill": {
     "duration": 0.214039,
     "end_time": "2021-06-16T06:29:02.314038",
     "exception": false,
     "start_time": "2021-06-16T06:29:02.099999",
     "status": "completed"
    },
    "tags": []
   },
   "outputs": [
    {
     "name": "stderr",
     "output_type": "stream",
     "text": [
      "/opt/conda/lib/python3.7/site-packages/tensorflow/python/keras/engine/sequential.py:450: UserWarning: `model.predict_classes()` is deprecated and will be removed after 2021-01-01. Please use instead:* `np.argmax(model.predict(x), axis=-1)`,   if your model does multi-class classification   (e.g. if it uses a `softmax` last-layer activation).* `(model.predict(x) > 0.5).astype(\"int32\")`,   if your model does binary classification   (e.g. if it uses a `sigmoid` last-layer activation).\n",
      "  warnings.warn('`model.predict_classes()` is deprecated and '\n"
     ]
    },
    {
     "data": {
      "text/plain": [
       "count    1386.000000\n",
       "mean        0.013709\n",
       "std         0.116320\n",
       "min         0.000000\n",
       "25%         0.000000\n",
       "50%         0.000000\n",
       "75%         0.000000\n",
       "max         1.000000\n",
       "Name: pred, dtype: float64"
      ]
     },
     "execution_count": 39,
     "metadata": {},
     "output_type": "execute_result"
    }
   ],
   "source": [
    "test['pred'] = model.predict_classes(testt)\n",
    "test.pred.describe()"
   ]
  },
  {
   "cell_type": "code",
   "execution_count": 40,
   "metadata": {
    "execution": {
     "iopub.execute_input": "2021-06-16T06:29:02.436237Z",
     "iopub.status.busy": "2021-06-16T06:29:02.435419Z",
     "iopub.status.idle": "2021-06-16T06:29:02.439816Z",
     "shell.execute_reply": "2021-06-16T06:29:02.438934Z",
     "shell.execute_reply.started": "2021-06-16T06:24:34.615568Z"
    },
    "papermill": {
     "duration": 0.073015,
     "end_time": "2021-06-16T06:29:02.440001",
     "exception": false,
     "start_time": "2021-06-16T06:29:02.366986",
     "status": "completed"
    },
    "tags": []
   },
   "outputs": [
    {
     "name": "stdout",
     "output_type": "stream",
     "text": [
      "<class 'pandas.core.frame.DataFrame'>\n",
      "Int64Index: 1386 entries, 0 to 2128\n",
      "Data columns (total 12 columns):\n",
      " #   Column                  Non-Null Count  Dtype  \n",
      "---  ------                  --------------  -----  \n",
      " 0   enrollee_id             1386 non-null   int64  \n",
      " 1   city                    1386 non-null   object \n",
      " 2   city_development_index  1386 non-null   float64\n",
      " 3   gender                  1386 non-null   object \n",
      " 4   relevent_experience     1386 non-null   object \n",
      " 5   enrolled_university     1386 non-null   object \n",
      " 6   education_level         1386 non-null   object \n",
      " 7   major_discipline        1386 non-null   object \n",
      " 8   experience              1386 non-null   object \n",
      " 9   last_new_job            1386 non-null   object \n",
      " 10  training_hours          1386 non-null   int64  \n",
      " 11  pred                    1386 non-null   int32  \n",
      "dtypes: float64(1), int32(1), int64(2), object(8)\n",
      "memory usage: 135.4+ KB\n"
     ]
    }
   ],
   "source": [
    "test.info()"
   ]
  },
  {
   "cell_type": "markdown",
   "metadata": {
    "papermill": {
     "duration": 0.053397,
     "end_time": "2021-06-16T06:29:02.547981",
     "exception": false,
     "start_time": "2021-06-16T06:29:02.494584",
     "status": "completed"
    },
    "tags": []
   },
   "source": [
    "pred가 1로 나타난 행 확인"
   ]
  },
  {
   "cell_type": "code",
   "execution_count": 41,
   "metadata": {
    "execution": {
     "iopub.execute_input": "2021-06-16T06:29:02.679544Z",
     "iopub.status.busy": "2021-06-16T06:29:02.678599Z",
     "iopub.status.idle": "2021-06-16T06:29:02.683182Z",
     "shell.execute_reply": "2021-06-16T06:29:02.683663Z",
     "shell.execute_reply.started": "2021-06-16T06:24:34.633659Z"
    },
    "papermill": {
     "duration": 0.083348,
     "end_time": "2021-06-16T06:29:02.683838",
     "exception": false,
     "start_time": "2021-06-16T06:29:02.600490",
     "status": "completed"
    },
    "tags": []
   },
   "outputs": [
    {
     "data": {
      "text/html": [
       "<div>\n",
       "<style scoped>\n",
       "    .dataframe tbody tr th:only-of-type {\n",
       "        vertical-align: middle;\n",
       "    }\n",
       "\n",
       "    .dataframe tbody tr th {\n",
       "        vertical-align: top;\n",
       "    }\n",
       "\n",
       "    .dataframe thead th {\n",
       "        text-align: right;\n",
       "    }\n",
       "</style>\n",
       "<table border=\"1\" class=\"dataframe\">\n",
       "  <thead>\n",
       "    <tr style=\"text-align: right;\">\n",
       "      <th></th>\n",
       "      <th>enrollee_id</th>\n",
       "      <th>city</th>\n",
       "      <th>city_development_index</th>\n",
       "      <th>gender</th>\n",
       "      <th>relevent_experience</th>\n",
       "      <th>enrolled_university</th>\n",
       "      <th>education_level</th>\n",
       "      <th>major_discipline</th>\n",
       "      <th>experience</th>\n",
       "      <th>last_new_job</th>\n",
       "      <th>training_hours</th>\n",
       "      <th>pred</th>\n",
       "    </tr>\n",
       "  </thead>\n",
       "  <tbody>\n",
       "    <tr>\n",
       "      <th>8</th>\n",
       "      <td>12994</td>\n",
       "      <td>city_173</td>\n",
       "      <td>0.878</td>\n",
       "      <td>Male</td>\n",
       "      <td>Has relevent experience</td>\n",
       "      <td>no_enrollment</td>\n",
       "      <td>Graduate</td>\n",
       "      <td>STEM</td>\n",
       "      <td>14</td>\n",
       "      <td>4</td>\n",
       "      <td>2</td>\n",
       "      <td>1</td>\n",
       "    </tr>\n",
       "    <tr>\n",
       "      <th>104</th>\n",
       "      <td>20453</td>\n",
       "      <td>city_27</td>\n",
       "      <td>0.848</td>\n",
       "      <td>Male</td>\n",
       "      <td>Has relevent experience</td>\n",
       "      <td>no_enrollment</td>\n",
       "      <td>Graduate</td>\n",
       "      <td>STEM</td>\n",
       "      <td>3</td>\n",
       "      <td>never</td>\n",
       "      <td>4</td>\n",
       "      <td>1</td>\n",
       "    </tr>\n",
       "    <tr>\n",
       "      <th>151</th>\n",
       "      <td>27117</td>\n",
       "      <td>city_90</td>\n",
       "      <td>0.698</td>\n",
       "      <td>Male</td>\n",
       "      <td>No relevent experience</td>\n",
       "      <td>Full time course</td>\n",
       "      <td>Graduate</td>\n",
       "      <td>STEM</td>\n",
       "      <td>&lt;1</td>\n",
       "      <td>never</td>\n",
       "      <td>8</td>\n",
       "      <td>1</td>\n",
       "    </tr>\n",
       "    <tr>\n",
       "      <th>188</th>\n",
       "      <td>28619</td>\n",
       "      <td>city_103</td>\n",
       "      <td>0.920</td>\n",
       "      <td>Male</td>\n",
       "      <td>No relevent experience</td>\n",
       "      <td>no_enrollment</td>\n",
       "      <td>Graduate</td>\n",
       "      <td>No Major</td>\n",
       "      <td>3</td>\n",
       "      <td>never</td>\n",
       "      <td>4</td>\n",
       "      <td>1</td>\n",
       "    </tr>\n",
       "    <tr>\n",
       "      <th>657</th>\n",
       "      <td>23488</td>\n",
       "      <td>city_16</td>\n",
       "      <td>0.910</td>\n",
       "      <td>Male</td>\n",
       "      <td>No relevent experience</td>\n",
       "      <td>no_enrollment</td>\n",
       "      <td>Graduate</td>\n",
       "      <td>STEM</td>\n",
       "      <td>17</td>\n",
       "      <td>&gt;4</td>\n",
       "      <td>4</td>\n",
       "      <td>1</td>\n",
       "    </tr>\n",
       "    <tr>\n",
       "      <th>711</th>\n",
       "      <td>17504</td>\n",
       "      <td>city_160</td>\n",
       "      <td>0.920</td>\n",
       "      <td>Other</td>\n",
       "      <td>No relevent experience</td>\n",
       "      <td>no_enrollment</td>\n",
       "      <td>Graduate</td>\n",
       "      <td>STEM</td>\n",
       "      <td>&lt;1</td>\n",
       "      <td>never</td>\n",
       "      <td>3</td>\n",
       "      <td>1</td>\n",
       "    </tr>\n",
       "    <tr>\n",
       "      <th>776</th>\n",
       "      <td>22641</td>\n",
       "      <td>city_16</td>\n",
       "      <td>0.910</td>\n",
       "      <td>Male</td>\n",
       "      <td>Has relevent experience</td>\n",
       "      <td>no_enrollment</td>\n",
       "      <td>Graduate</td>\n",
       "      <td>STEM</td>\n",
       "      <td>13</td>\n",
       "      <td>never</td>\n",
       "      <td>4</td>\n",
       "      <td>1</td>\n",
       "    </tr>\n",
       "    <tr>\n",
       "      <th>929</th>\n",
       "      <td>13047</td>\n",
       "      <td>city_159</td>\n",
       "      <td>0.843</td>\n",
       "      <td>Male</td>\n",
       "      <td>Has relevent experience</td>\n",
       "      <td>no_enrollment</td>\n",
       "      <td>Graduate</td>\n",
       "      <td>STEM</td>\n",
       "      <td>12</td>\n",
       "      <td>4</td>\n",
       "      <td>4</td>\n",
       "      <td>1</td>\n",
       "    </tr>\n",
       "    <tr>\n",
       "      <th>1059</th>\n",
       "      <td>19260</td>\n",
       "      <td>city_16</td>\n",
       "      <td>0.910</td>\n",
       "      <td>Male</td>\n",
       "      <td>Has relevent experience</td>\n",
       "      <td>no_enrollment</td>\n",
       "      <td>Graduate</td>\n",
       "      <td>STEM</td>\n",
       "      <td>12</td>\n",
       "      <td>4</td>\n",
       "      <td>2</td>\n",
       "      <td>1</td>\n",
       "    </tr>\n",
       "    <tr>\n",
       "      <th>1134</th>\n",
       "      <td>10198</td>\n",
       "      <td>city_105</td>\n",
       "      <td>0.794</td>\n",
       "      <td>Male</td>\n",
       "      <td>Has relevent experience</td>\n",
       "      <td>Full time course</td>\n",
       "      <td>Graduate</td>\n",
       "      <td>STEM</td>\n",
       "      <td>11</td>\n",
       "      <td>&gt;4</td>\n",
       "      <td>3</td>\n",
       "      <td>1</td>\n",
       "    </tr>\n",
       "    <tr>\n",
       "      <th>1142</th>\n",
       "      <td>19783</td>\n",
       "      <td>city_16</td>\n",
       "      <td>0.910</td>\n",
       "      <td>Male</td>\n",
       "      <td>No relevent experience</td>\n",
       "      <td>no_enrollment</td>\n",
       "      <td>Graduate</td>\n",
       "      <td>STEM</td>\n",
       "      <td>16</td>\n",
       "      <td>1</td>\n",
       "      <td>4</td>\n",
       "      <td>1</td>\n",
       "    </tr>\n",
       "    <tr>\n",
       "      <th>1160</th>\n",
       "      <td>14159</td>\n",
       "      <td>city_133</td>\n",
       "      <td>0.742</td>\n",
       "      <td>Male</td>\n",
       "      <td>No relevent experience</td>\n",
       "      <td>no_enrollment</td>\n",
       "      <td>Graduate</td>\n",
       "      <td>STEM</td>\n",
       "      <td>12</td>\n",
       "      <td>&gt;4</td>\n",
       "      <td>8</td>\n",
       "      <td>1</td>\n",
       "    </tr>\n",
       "    <tr>\n",
       "      <th>1250</th>\n",
       "      <td>33291</td>\n",
       "      <td>city_76</td>\n",
       "      <td>0.698</td>\n",
       "      <td>Male</td>\n",
       "      <td>No relevent experience</td>\n",
       "      <td>no_enrollment</td>\n",
       "      <td>Graduate</td>\n",
       "      <td>STEM</td>\n",
       "      <td>10</td>\n",
       "      <td>1</td>\n",
       "      <td>3</td>\n",
       "      <td>1</td>\n",
       "    </tr>\n",
       "    <tr>\n",
       "      <th>1359</th>\n",
       "      <td>33300</td>\n",
       "      <td>city_50</td>\n",
       "      <td>0.896</td>\n",
       "      <td>Male</td>\n",
       "      <td>Has relevent experience</td>\n",
       "      <td>no_enrollment</td>\n",
       "      <td>Masters</td>\n",
       "      <td>STEM</td>\n",
       "      <td>15</td>\n",
       "      <td>&gt;4</td>\n",
       "      <td>2</td>\n",
       "      <td>1</td>\n",
       "    </tr>\n",
       "    <tr>\n",
       "      <th>1574</th>\n",
       "      <td>32374</td>\n",
       "      <td>city_103</td>\n",
       "      <td>0.920</td>\n",
       "      <td>Male</td>\n",
       "      <td>Has relevent experience</td>\n",
       "      <td>no_enrollment</td>\n",
       "      <td>Graduate</td>\n",
       "      <td>STEM</td>\n",
       "      <td>11</td>\n",
       "      <td>2</td>\n",
       "      <td>2</td>\n",
       "      <td>1</td>\n",
       "    </tr>\n",
       "    <tr>\n",
       "      <th>1650</th>\n",
       "      <td>19550</td>\n",
       "      <td>city_21</td>\n",
       "      <td>0.624</td>\n",
       "      <td>Female</td>\n",
       "      <td>Has relevent experience</td>\n",
       "      <td>Part time course</td>\n",
       "      <td>Graduate</td>\n",
       "      <td>STEM</td>\n",
       "      <td>7</td>\n",
       "      <td>4</td>\n",
       "      <td>2</td>\n",
       "      <td>1</td>\n",
       "    </tr>\n",
       "    <tr>\n",
       "      <th>1752</th>\n",
       "      <td>14069</td>\n",
       "      <td>city_160</td>\n",
       "      <td>0.920</td>\n",
       "      <td>Female</td>\n",
       "      <td>No relevent experience</td>\n",
       "      <td>Full time course</td>\n",
       "      <td>Graduate</td>\n",
       "      <td>STEM</td>\n",
       "      <td>4</td>\n",
       "      <td>never</td>\n",
       "      <td>4</td>\n",
       "      <td>1</td>\n",
       "    </tr>\n",
       "    <tr>\n",
       "      <th>1819</th>\n",
       "      <td>16079</td>\n",
       "      <td>city_21</td>\n",
       "      <td>0.624</td>\n",
       "      <td>Male</td>\n",
       "      <td>Has relevent experience</td>\n",
       "      <td>no_enrollment</td>\n",
       "      <td>Graduate</td>\n",
       "      <td>STEM</td>\n",
       "      <td>8</td>\n",
       "      <td>4</td>\n",
       "      <td>2</td>\n",
       "      <td>1</td>\n",
       "    </tr>\n",
       "    <tr>\n",
       "      <th>1989</th>\n",
       "      <td>32511</td>\n",
       "      <td>city_16</td>\n",
       "      <td>0.910</td>\n",
       "      <td>Male</td>\n",
       "      <td>No relevent experience</td>\n",
       "      <td>no_enrollment</td>\n",
       "      <td>Graduate</td>\n",
       "      <td>STEM</td>\n",
       "      <td>14</td>\n",
       "      <td>&gt;4</td>\n",
       "      <td>7</td>\n",
       "      <td>1</td>\n",
       "    </tr>\n",
       "  </tbody>\n",
       "</table>\n",
       "</div>"
      ],
      "text/plain": [
       "      enrollee_id      city  city_development_index  gender  \\\n",
       "8           12994  city_173                   0.878    Male   \n",
       "104         20453   city_27                   0.848    Male   \n",
       "151         27117   city_90                   0.698    Male   \n",
       "188         28619  city_103                   0.920    Male   \n",
       "657         23488   city_16                   0.910    Male   \n",
       "711         17504  city_160                   0.920   Other   \n",
       "776         22641   city_16                   0.910    Male   \n",
       "929         13047  city_159                   0.843    Male   \n",
       "1059        19260   city_16                   0.910    Male   \n",
       "1134        10198  city_105                   0.794    Male   \n",
       "1142        19783   city_16                   0.910    Male   \n",
       "1160        14159  city_133                   0.742    Male   \n",
       "1250        33291   city_76                   0.698    Male   \n",
       "1359        33300   city_50                   0.896    Male   \n",
       "1574        32374  city_103                   0.920    Male   \n",
       "1650        19550   city_21                   0.624  Female   \n",
       "1752        14069  city_160                   0.920  Female   \n",
       "1819        16079   city_21                   0.624    Male   \n",
       "1989        32511   city_16                   0.910    Male   \n",
       "\n",
       "          relevent_experience enrolled_university education_level  \\\n",
       "8     Has relevent experience       no_enrollment        Graduate   \n",
       "104   Has relevent experience       no_enrollment        Graduate   \n",
       "151    No relevent experience    Full time course        Graduate   \n",
       "188    No relevent experience       no_enrollment        Graduate   \n",
       "657    No relevent experience       no_enrollment        Graduate   \n",
       "711    No relevent experience       no_enrollment        Graduate   \n",
       "776   Has relevent experience       no_enrollment        Graduate   \n",
       "929   Has relevent experience       no_enrollment        Graduate   \n",
       "1059  Has relevent experience       no_enrollment        Graduate   \n",
       "1134  Has relevent experience    Full time course        Graduate   \n",
       "1142   No relevent experience       no_enrollment        Graduate   \n",
       "1160   No relevent experience       no_enrollment        Graduate   \n",
       "1250   No relevent experience       no_enrollment        Graduate   \n",
       "1359  Has relevent experience       no_enrollment         Masters   \n",
       "1574  Has relevent experience       no_enrollment        Graduate   \n",
       "1650  Has relevent experience    Part time course        Graduate   \n",
       "1752   No relevent experience    Full time course        Graduate   \n",
       "1819  Has relevent experience       no_enrollment        Graduate   \n",
       "1989   No relevent experience       no_enrollment        Graduate   \n",
       "\n",
       "     major_discipline experience last_new_job  training_hours  pred  \n",
       "8                STEM         14            4               2     1  \n",
       "104              STEM          3        never               4     1  \n",
       "151              STEM         <1        never               8     1  \n",
       "188          No Major          3        never               4     1  \n",
       "657              STEM         17           >4               4     1  \n",
       "711              STEM         <1        never               3     1  \n",
       "776              STEM         13        never               4     1  \n",
       "929              STEM         12            4               4     1  \n",
       "1059             STEM         12            4               2     1  \n",
       "1134             STEM         11           >4               3     1  \n",
       "1142             STEM         16            1               4     1  \n",
       "1160             STEM         12           >4               8     1  \n",
       "1250             STEM         10            1               3     1  \n",
       "1359             STEM         15           >4               2     1  \n",
       "1574             STEM         11            2               2     1  \n",
       "1650             STEM          7            4               2     1  \n",
       "1752             STEM          4        never               4     1  \n",
       "1819             STEM          8            4               2     1  \n",
       "1989             STEM         14           >4               7     1  "
      ]
     },
     "execution_count": 41,
     "metadata": {},
     "output_type": "execute_result"
    }
   ],
   "source": [
    "test[test.pred==1]"
   ]
  },
  {
   "cell_type": "code",
   "execution_count": 42,
   "metadata": {
    "execution": {
     "iopub.execute_input": "2021-06-16T06:29:02.797148Z",
     "iopub.status.busy": "2021-06-16T06:29:02.796517Z",
     "iopub.status.idle": "2021-06-16T06:29:02.930506Z",
     "shell.execute_reply": "2021-06-16T06:29:02.931037Z",
     "shell.execute_reply.started": "2021-06-16T06:24:34.679632Z"
    },
    "papermill": {
     "duration": 0.193406,
     "end_time": "2021-06-16T06:29:02.931209",
     "exception": false,
     "start_time": "2021-06-16T06:29:02.737803",
     "status": "completed"
    },
    "tags": []
   },
   "outputs": [
    {
     "name": "stderr",
     "output_type": "stream",
     "text": [
      "/opt/conda/lib/python3.7/site-packages/tensorflow/python/keras/engine/sequential.py:450: UserWarning: `model.predict_classes()` is deprecated and will be removed after 2021-01-01. Please use instead:* `np.argmax(model.predict(x), axis=-1)`,   if your model does multi-class classification   (e.g. if it uses a `softmax` last-layer activation).* `(model.predict(x) > 0.5).astype(\"int32\")`,   if your model does binary classification   (e.g. if it uses a `sigmoid` last-layer activation).\n",
      "  warnings.warn('`model.predict_classes()` is deprecated and '\n"
     ]
    }
   ],
   "source": [
    "predictions = model.predict_classes(X_test)"
   ]
  },
  {
   "cell_type": "code",
   "execution_count": 43,
   "metadata": {
    "execution": {
     "iopub.execute_input": "2021-06-16T06:29:03.046087Z",
     "iopub.status.busy": "2021-06-16T06:29:03.045465Z",
     "iopub.status.idle": "2021-06-16T06:29:03.051317Z",
     "shell.execute_reply": "2021-06-16T06:29:03.050720Z",
     "shell.execute_reply.started": "2021-06-16T06:24:34.817562Z"
    },
    "papermill": {
     "duration": 0.065679,
     "end_time": "2021-06-16T06:29:03.051466",
     "exception": false,
     "start_time": "2021-06-16T06:29:02.985787",
     "status": "completed"
    },
    "tags": []
   },
   "outputs": [
    {
     "data": {
      "text/plain": [
       "array([[0],\n",
       "       [0],\n",
       "       [0],\n",
       "       ...,\n",
       "       [0],\n",
       "       [0],\n",
       "       [0]], dtype=int32)"
      ]
     },
     "execution_count": 43,
     "metadata": {},
     "output_type": "execute_result"
    }
   ],
   "source": [
    "predictions"
   ]
  },
  {
   "cell_type": "markdown",
   "metadata": {
    "papermill": {
     "duration": 0.054499,
     "end_time": "2021-06-16T06:29:03.161362",
     "exception": false,
     "start_time": "2021-06-16T06:29:03.106863",
     "status": "completed"
    },
    "tags": []
   },
   "source": [
    "아래 값들로 모델이 변수간의 관계를 적절히 나타내지 못하는 것을 확인하였다.\n",
    "2가지 category로 나누기 위해서는 다른 적절한 방법이 필요할 것으로 생각됨"
   ]
  },
  {
   "cell_type": "code",
   "execution_count": 44,
   "metadata": {
    "execution": {
     "iopub.execute_input": "2021-06-16T06:29:03.275231Z",
     "iopub.status.busy": "2021-06-16T06:29:03.274239Z",
     "iopub.status.idle": "2021-06-16T06:29:03.278250Z",
     "shell.execute_reply": "2021-06-16T06:29:03.278718Z",
     "shell.execute_reply.started": "2021-06-16T06:24:34.824841Z"
    },
    "papermill": {
     "duration": 0.06169,
     "end_time": "2021-06-16T06:29:03.278889",
     "exception": false,
     "start_time": "2021-06-16T06:29:03.217199",
     "status": "completed"
    },
    "tags": []
   },
   "outputs": [],
   "source": [
    "from sklearn.metrics import mean_squared_error,mean_absolute_error,explained_variance_score, r2_score"
   ]
  },
  {
   "cell_type": "code",
   "execution_count": 45,
   "metadata": {
    "execution": {
     "iopub.execute_input": "2021-06-16T06:29:03.391169Z",
     "iopub.status.busy": "2021-06-16T06:29:03.390210Z",
     "iopub.status.idle": "2021-06-16T06:29:03.395960Z",
     "shell.execute_reply": "2021-06-16T06:29:03.396419Z",
     "shell.execute_reply.started": "2021-06-16T06:24:34.83602Z"
    },
    "papermill": {
     "duration": 0.06342,
     "end_time": "2021-06-16T06:29:03.396592",
     "exception": false,
     "start_time": "2021-06-16T06:29:03.333172",
     "status": "completed"
    },
    "tags": []
   },
   "outputs": [
    {
     "data": {
      "text/plain": [
       "0.22916666666666666"
      ]
     },
     "execution_count": 45,
     "metadata": {},
     "output_type": "execute_result"
    }
   ],
   "source": [
    "mean_squared_error(y_test,predictions)"
   ]
  },
  {
   "cell_type": "code",
   "execution_count": 46,
   "metadata": {
    "execution": {
     "iopub.execute_input": "2021-06-16T06:29:03.509150Z",
     "iopub.status.busy": "2021-06-16T06:29:03.508199Z",
     "iopub.status.idle": "2021-06-16T06:29:03.514081Z",
     "shell.execute_reply": "2021-06-16T06:29:03.514545Z",
     "shell.execute_reply.started": "2021-06-16T06:24:34.850726Z"
    },
    "papermill": {
     "duration": 0.063687,
     "end_time": "2021-06-16T06:29:03.514715",
     "exception": false,
     "start_time": "2021-06-16T06:29:03.451028",
     "status": "completed"
    },
    "tags": []
   },
   "outputs": [
    {
     "data": {
      "text/plain": [
       "0.47871355387816905"
      ]
     },
     "execution_count": 46,
     "metadata": {},
     "output_type": "execute_result"
    }
   ],
   "source": [
    "np.sqrt(mean_squared_error(y_test,predictions))"
   ]
  },
  {
   "cell_type": "code",
   "execution_count": 47,
   "metadata": {
    "execution": {
     "iopub.execute_input": "2021-06-16T06:29:03.627685Z",
     "iopub.status.busy": "2021-06-16T06:29:03.626767Z",
     "iopub.status.idle": "2021-06-16T06:29:03.632560Z",
     "shell.execute_reply": "2021-06-16T06:29:03.633023Z",
     "shell.execute_reply.started": "2021-06-16T06:24:34.86377Z"
    },
    "papermill": {
     "duration": 0.063541,
     "end_time": "2021-06-16T06:29:03.633191",
     "exception": false,
     "start_time": "2021-06-16T06:29:03.569650",
     "status": "completed"
    },
    "tags": []
   },
   "outputs": [
    {
     "data": {
      "text/plain": [
       "-0.10039397011720896"
      ]
     },
     "execution_count": 47,
     "metadata": {},
     "output_type": "execute_result"
    }
   ],
   "source": [
    "explained_variance_score(y_test,predictions)"
   ]
  },
  {
   "cell_type": "code",
   "execution_count": 48,
   "metadata": {
    "execution": {
     "iopub.execute_input": "2021-06-16T06:29:03.746984Z",
     "iopub.status.busy": "2021-06-16T06:29:03.746036Z",
     "iopub.status.idle": "2021-06-16T06:29:03.751843Z",
     "shell.execute_reply": "2021-06-16T06:29:03.752279Z",
     "shell.execute_reply.started": "2021-06-16T06:24:34.877211Z"
    },
    "papermill": {
     "duration": 0.064476,
     "end_time": "2021-06-16T06:29:03.752464",
     "exception": false,
     "start_time": "2021-06-16T06:29:03.687988",
     "status": "completed"
    },
    "tags": []
   },
   "outputs": [
    {
     "data": {
      "text/plain": [
       "-0.2521724487540651"
      ]
     },
     "execution_count": 48,
     "metadata": {},
     "output_type": "execute_result"
    }
   ],
   "source": [
    "r2_score(y_test,predictions)"
   ]
  }
 ],
 "metadata": {
  "kernelspec": {
   "display_name": "Python 3",
   "language": "python",
   "name": "python3"
  },
  "language_info": {
   "codemirror_mode": {
    "name": "ipython",
    "version": 3
   },
   "file_extension": ".py",
   "mimetype": "text/x-python",
   "name": "python",
   "nbconvert_exporter": "python",
   "pygments_lexer": "ipython3",
   "version": "3.7.6"
  },
  "papermill": {
   "default_parameters": {},
   "duration": 26.853046,
   "end_time": "2021-06-16T06:29:05.202859",
   "environment_variables": {},
   "exception": null,
   "input_path": "__notebook__.ipynb",
   "output_path": "__notebook__.ipynb",
   "parameters": {},
   "start_time": "2021-06-16T06:28:38.349813",
   "version": "2.3.3"
  }
 },
 "nbformat": 4,
 "nbformat_minor": 5
}
